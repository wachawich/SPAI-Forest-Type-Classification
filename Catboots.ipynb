{
  "cells": [
    {
      "cell_type": "code",
      "execution_count": 1,
      "metadata": {
        "colab": {
          "base_uri": "https://localhost:8080/"
        },
        "id": "snm-T9JeuNfE",
        "outputId": "aa42e14c-399d-4ae0-a9bc-60d278d3e01a"
      },
      "outputs": [
        {
          "name": "stdout",
          "output_type": "stream",
          "text": [
            "Mounted at /content/drive\n"
          ]
        }
      ],
      "source": [
        "from google.colab import drive\n",
        "drive.mount('/content/drive')"
      ]
    },
    {
      "cell_type": "code",
      "execution_count": 2,
      "metadata": {
        "id": "ZBZu5Y0Dusu6"
      },
      "outputs": [],
      "source": [
        "!pip install -q kaggle\n",
        "!cp /content/drive/MyDrive/colab/kaggle.json /content/kaggle.json\n",
        "!mkdir ~/.kaggle\n",
        "!cp /content/kaggle.json ~/.kaggle/\n",
        "!chmod 600 ~/.kaggle/kaggle.json"
      ]
    },
    {
      "cell_type": "code",
      "execution_count": 3,
      "metadata": {
        "id": "tt8XAAc6u-iM"
      },
      "outputs": [],
      "source": [
        "import pandas as pd\n",
        "import matplotlib.pyplot as plt\n",
        "import pandas as pd\n",
        "import numpy as np"
      ]
    },
    {
      "cell_type": "code",
      "execution_count": null,
      "metadata": {
        "colab": {
          "base_uri": "https://localhost:8080/",
          "height": 424
        },
        "id": "21o9O5yRu5ex",
        "outputId": "698e3e52-64cd-47be-ba79-f935090eb8c1"
      },
      "outputs": [],
      "source": [
        "train_df = pd.read_csv('/content/train.csv')\n",
        "train_df"
      ]
    },
    {
      "cell_type": "markdown",
      "metadata": {
        "id": "-QNKfnYwSVyr"
      },
      "source": [
        "## Visualize"
      ]
    },
    {
      "cell_type": "code",
      "execution_count": null,
      "metadata": {
        "colab": {
          "base_uri": "https://localhost:8080/",
          "height": 405
        },
        "id": "qB4o588f80p5",
        "outputId": "e566d987-87a9-4f6a-c7f6-8e3592514fc3"
      },
      "outputs": [
        {
          "data": {
            "image/png": "[encoded data removed]",
            "text/plain": [
              "<Figure size 1500x400 with 1 Axes>"
            ]
          },
          "metadata": {},
          "output_type": "display_data"
        }
      ],
      "source": [
        "class_counts = train_df['nforest_type'].value_counts()\n",
        "\n",
        "# Plotting\n",
        "plt.figure(figsize=(15, 4))\n",
        "class_counts.plot(kind='bar')\n",
        "plt.xlabel('Classes')\n",
        "plt.ylabel('Count')\n",
        "plt.xticks(rotation=45)  # Rotate x-axis labels for better readability\n",
        "plt.show()"
      ]
    },
    {
      "cell_type": "code",
      "execution_count": null,
      "metadata": {
        "colab": {
          "base_uri": "https://localhost:8080/",
          "height": 833
        },
        "id": "2rSv3FOOyJPA",
        "outputId": "22e3520b-148a-4852-b1d2-ca65d38da352"
      },
      "outputs": [],
      "source": [
        "num_rows = 4\n",
        "num_cols = 3\n",
        "num_plots = num_rows * num_cols\n",
        "\n",
        "# Create figure and axes\n",
        "fig, axs = plt.subplots(nrows=num_rows, ncols=num_cols, figsize=(28, 15))\n",
        "\n",
        "# Flatten the axes array for easier iteration\n",
        "axs_flat = axs.flatten()\n",
        "\n",
        "# Plot each feature\n",
        "for i, col in enumerate(train_df.columns[1:13]):  # Assuming the first column is 'id'\n",
        "    ax = axs_flat[i]\n",
        "    ax.bar(train_df['id'], train_df[col])\n",
        "    ax.set_xlabel('id')\n",
        "    ax.set_ylabel(col)\n",
        "    ax.set_title(f'Bar Chart for {col}')\n",
        "\n",
        "# Remove any unused subplots\n",
        "for i in range(len(train_df.columns) - 1, num_plots):\n",
        "    fig.delaxes(axs_flat[i])\n",
        "\n",
        "# Adjust layout\n",
        "plt.tight_layout()\n",
        "\n",
        "# Show plot\n",
        "plt.show()"
      ]
    },
    {
      "cell_type": "markdown",
      "metadata": {
        "id": "mJJdMDXcBsRY"
      },
      "source": [
        "# Add feature"
      ]
    },
    {
      "cell_type": "code",
      "execution_count": 7,
      "metadata": {
        "id": "SBUBg-ycXHmk"
      },
      "outputs": [],
      "source": [
        "b1 = train_df['b1']\n",
        "b11 = train_df['b11']\n",
        "b12 = train_df['b12']\n",
        "b2 = train_df['b2']\n",
        "b3 = train_df['b3']\n",
        "b4 = train_df['b4']\n",
        "b5 = train_df['b5']\n",
        "b6 = train_df['b6']\n",
        "b7 = train_df['b7']\n",
        "b8 = train_df['b8']\n",
        "b8a = train_df['b8_a']\n",
        "b9 = train_df['b9']"
      ]
    },
    {
      "cell_type": "code",
      "execution_count": 8,
      "metadata": {
        "id": "BG3z3VgVZFI9"
      },
      "outputs": [],
      "source": [
        "train_df['NDVI'] = (train_df['b8'] - train_df['b4']) / (train_df['b8'] + train_df['b4'])\n",
        "train_df['EVI'] = 2.5 * ((train_df['b8'] - train_df['b4']) / (train_df['b8'] + 6 * train_df['b4'] - 7.5 * train_df['b2'] + 1.01))\n",
        "train_df['NDWI'] = (train_df['b3'] - train_df['b8']) / (train_df['b3'] + train_df['b8'])\n",
        "train_df['SAVI'] = (train_df['b8'] - train_df['b4']) * (1 + 0.5) / (train_df['b8'] + train_df['b4'] + 0.5)\n",
        "train_df['MSAVI'] = (2 * train_df['b8'] + 1 - ( (2 * train_df['b8'] + 1) ** 2 - 8 * (train_df['b8'] - train_df['b4'])) ** (1 / 2)) / 2\n",
        "train_df['GNDVI'] = (train_df['b8'] - train_df['b3']) / (train_df['b8'] + train_df['b3'])\n",
        "train_df['RENDVI'] = (train_df['b8'] - train_df['b5']) / (train_df['b8'] + train_df['b5'])\n",
        "train_df['NDMI'] = (train_df['b8'] - train_df['b11']) / (train_df['b8'] + train_df['b11'])\n",
        "train_df['GRVI'] = (train_df['b3'] - train_df['b4']) / (train_df['b3'] + train_df['b4'])\n",
        "train_df['TVI'] = ( (train_df['b8'] - train_df['b4']) / (train_df['b8'] + train_df['b4'] + 0.5) ) ** (1 / 2)\n",
        "train_df['MCARI'] = ((train_df['b5'] - train_df['b4']) - 0.2 * (train_df['b5'] - train_df['b3'])) / (train_df['b5'] / train_df['b4'])\n",
        "train_df['BSI'] =  ((train_df['b11'] + train_df['b4']) - (train_df['b8'] + train_df['b2'])) / ((train_df['b11'] + train_df['b4']) + (train_df['b8'] + train_df['b2']))\n",
        "train_df['NBR'] = (train_df['b8'] - train_df['b12']) / (train_df['b8'] + train_df['b12'])\n",
        "train_df['MSI'] = train_df['b11'] / train_df['b8']"
      ]
    },
    {
      "cell_type": "markdown",
      "metadata": {
        "id": "kpL71nmPBsRZ"
      },
      "source": [
        "## Add indexbase feature"
      ]
    },
    {
      "cell_type": "code",
      "execution_count": null,
      "metadata": {
        "colab": {
          "base_uri": "https://localhost:8080/"
        },
        "collapsed": true,
        "id": "9Sf3JB-DXCuW",
        "outputId": "399c0713-0292-44e5-c90b-bd7ba292f3e6"
      },
      "outputs": [],
      "source": [
        "train_df['Adjusted transformed soil-adjusted VI'] = 1.22 * (b8 - 1.22 * b4 - 0.03) / (1.22 * b8 + b4 - 1.22 * 0.03 + 0.08 * (1 + 1.22 ** 2))\n",
        "train_df['Aerosol free vegetation index 1600'] = b8 - 0.66 * b11 / (b8 + 0.66 * b11)\n",
        "train_df['Aerosol free vegetation index 2100'] = b8 - 0.5 * b12 / (b8 + 0.56 * b12)\n",
        "train_df['Alteration'] = b11 / b12\n",
        "train_df['Anthocyanin reflectance index'] = 1 / b3 - 1 / b5\n",
        "train_df['Atmospherically Resistant Vegetation Index 2'] = -0.18 + 1.17 * (b8 - b4) / (b8 + b4)\n",
        "train_df['Blue-wide dynamic range vegetation index'] = (0.1 * b8 - b2) / (0.1 * b8 + b2)\n",
        "train_df['Browning Reflectance Index'] = (1 / b3 - 1 / b5) / b8\n",
        "train_df['Chlorophyll Absorption Ratio Index'] = (b5 / b4) * np.sqrt(((b5 - b3) / 150 * 670 + b4 + (b3 - ((b5 - b3) / 150 * 550))) ** 2) / np.sqrt(((b5 - b3) / (150 ** 2) + 1))\n",
        "train_df['Chlorophyll Green'] = (b7 / b3) ** -1\n",
        "train_df['Chlorophyll Index Green'] = (b8 / b3) - 1\n",
        "train_df['Chlorophyll IndexRedEdge'] = (b8 / b5) - 1\n",
        "train_df['Chlorophyll Red-Edge'] = (b7 / b5) ** -1\n",
        "train_df['Chlorophyll vegetation index'] = b8 * b4 / (b3 ** 2)\n",
        "train_df['Coloration Index'] = (b4 - b2) / b4\n",
        "train_df['CRI550'] = (b2.astype(float) ** -1) - (b3.astype(float) ** -1)\n",
        "train_df['CRI700'] = (b2.astype(float) ** -1) - (b5.astype(float) ** -1)\n",
        "train_df['Datt1'] = (b8 - b5) / (b8 - b4)\n",
        "train_df['Datt4'] = b4 / (b3 * b5)\n",
        "train_df['Datt6'] = b8a / (b3 * b5)\n",
        "train_df['Difference 678/500'] = b4 - b2\n",
        "train_df['Difference 800/550'] = b8 - b3\n",
        "train_df['Difference 800/680'] = b8 - b4\n",
        "train_df['Difference 833/658'] = b8 - b4\n",
        "train_df['Difference NIR/Green'] = b8 - b3\n",
        "train_df['EVI'] = 2.5 * (b8 - b4) / (b8 + (6 * b4) + (-7.5 * b2) + 1)\n",
        "train_df['EVI 2'] = 2.4 * (b8 - b4) / (b8 + b4 + 1)\n",
        "train_df['Ferrous Silicates'] = b12 / b11\n",
        "train_df['Global Environment Monitoring Index'] =  (2 * (b8 ** 2 - b4 ** 2) + 1.5 * b8 + 0.5 * b4) / (b8 + b4 + 0.5) * (1 - 0.25 * (2 * (b8 ** 2 - b4 ** 2) + 1.5 * b8 + 0.5 * b4) / (b8 + b4 + 0.5)) - ((b4 - 0.125) / (1 - b4))\n",
        "train_df['Gossan'] = b11 / b4\n",
        "train_df['Green atmospherically resistant vegetation index'] = (b8 - (b3 - (b2 - b4)))/(b8 - (b3 + (b2 - b4)))\n",
        "train_df['Green leaf index'] = (2 * b3 - b4 - b2) / (2 * b3 + b4 + b2)\n",
        "train_df['Green Normalized Difference Vegetation Index'] = (b8 - b3) / (b8 + b3)\n",
        "train_df['Green Soil Adjusted Vegetation Index'] = (b8 - b3) / (b8 + b3 + 0.48) * (1 + 0.48)\n",
        "train_df['Green-Blue NDVI'] = (b8 - (b3 + b2)) / (b8 + (b3 + b2))\n",
        "train_df['Green-Red NDVI'] = (b8 - (b3 + b4)) / (b8 + (b3 + b4))\n",
        "train_df['Hue'] = np.arctan((2 * b4 - b3 - b2) / (30.5 * (b3 - b2)))\n",
        "train_df['Infrared percentage vegetation index'] = (b8 / (b8 + b4)) / 2 * (train_df['NDVI'] + 1)\n",
        "train_df['Intensity'] = (1/30.5) * (b4 + b3 + b2)\n",
        "train_df['Inverse reflectance 550'] = b3.astype(float) ** -1\n",
        "train_df['Inverse reflectance 700'] = b5.astype(float) ** -1\n",
        "train_df['Laterite'] = b11 / b12\n",
        "train_df['Leaf Chlorophyll Index'] = (b8 - b5) / (b8 + b4)\n",
        "train_df['Log Ratio'] = np.log(b8 / b4)\n",
        "train_df['Maccioni'] = (b7 - b5) / (b7 - b4)\n",
        "train_df['MCARI/MTVI2'] = (((b5 - b4) - 0.2 * (b5 - b3)) * (b5 / b4)) / (1.5 * (1.2 * (b8 - b3) - 2.5 * (b4 - b3)) / (np.sqrt((2 * b8 + 1) ** 2 - (6 * b8 - 5 * np.sqrt(4)) - 0.5)))\n",
        "train_df['MCARI/OSAVI'] = ((b5 - b4) - 0.2 * (b5 - b3) * (b5 / b4))/ ((1 + 0.16) * (b8 - b4) / (b8 + b4 + 0.16))\n",
        "train_df['mCRIG'] = (b2.astype(float) ** -1 - b3.astype(float) ** -1) * b8\n",
        "train_df['mCRIRE'] = (b2.astype(float) ** -1 - b5.astype(float) ** -1) * b8\n",
        "train_df['mND680'] = (b8 - b4) / (b8 + b4 - 2 * b1)\n",
        "train_df['Modified anthocyanin reflectance index'] = (b3.astype(float) ** -1 - b5.astype(float) ** -1) * b8\n",
        "train_df['Modified Chlorophyll Absorption in Reflectance Index'] = ((b5 - b4) - 0.2 * (b5 - b3)) * (b5 / b4)\n",
        "train_df['Modified Chlorophyll Absorption in Reflectance Index 1'] = 1.2 * (2.5 * (b8 - b4) - 1.3 * (b8 - b3))\n",
        "train_df['Modified Chlorophyll Absorption in Reflectance Index 2'] = 1.5 * (2.5 * (b8 - b4) - 1.3 * (b8 - b3)) / (np.sqrt((2 * b8 + 1) ** 2 - (6 * b8 - 5 * np.sqrt(b4)) - 0.5))\n",
        "train_df['Modified NDVI'] = (b8 - b4) / (b8 + b4 - 2 * b1)\n",
        "train_df['Modified Simple Ratio 670,800'] = ((b8 / b4) - 1) /np.sqrt((b8 - b4) + 1)\n",
        "train_df['Modified Simple Ratio NIR/RED'] = ((b8 / b4) - 1) /np.sqrt((b8 / b4) + 1)\n",
        "train_df['Modified Soil Adjusted Vegetation Index'] = (2 * b8 + 1 - np.sqrt((2 * b8 + 1) ** 2 - 8 * (b8 - b4)))/2\n",
        "train_df['Modified Soil Adjusted Vegetation Index hyper'] = (0.5) * ((2 * b8 + 1) - np.sqrt((2 * b8 + 1) ** 2 - 8 * (b8 - b4)))\n",
        "train_df['Modified Triangular Vegetation Index 1'] = 1.2 * (1.2 * (b8 - b3) - 2.5 * (b4 - b3))\n",
        "train_df['Modified Triangular Vegetation Index 2'] = 1.5 * (1.2 * (b8 - b3) - 2.5 * (b4 - b3)) / np.sqrt((2 * b8 + 1) ** 2 - (6 * b8 - 5 * np.sqrt(b4)) - 0.5)\n",
        "train_df['Norm G'] = b3 / (b8 + b4 + b3)\n",
        "train_df['Norm NIR'] = b8 / (b8 + b4 + b3)\n",
        "train_df['Norm R'] = b4 / (b8 + b4 + b3)\n",
        "train_df['Normalized Difference 550/450'] = (b3 - b1) / (b3 + b1)\n",
        "train_df['Normalized Difference 550/650'] = (b3 - b4) / (b3 + b4)\n",
        "train_df['Normalized Difference 774/677'] = (b7 - b4) / (b7 + b4)\n",
        "train_df['Normalized Difference 780/550'] = (b7 - b3) / (b7 + b3)\n",
        "train_df['Normalized Difference 782/666'] = (b7 - b4) / (b7 + b4)\n",
        "train_df['Normalized Difference 790/670'] = (b7 - b4) / (b7 + b4)\n",
        "train_df['Normalized Difference 800/2170'] = (b8 - b12) / (b8 + b12)\n",
        "train_df['Normalized Difference 800/470'] = (b8 - b2) / (b8 + b2)\n",
        "train_df['Normalized Difference 800/500'] = (b8 - b2) / (b8 + b2)\n",
        "train_df['Normalized Difference 800/550'] = (b8 - b3) / (b8 + b3)\n",
        "train_df['Normalized Difference 800/650'] = (b8 - b4) / (b8 + b4)\n",
        "train_df['Normalized Difference 800/675'] = (b8 - b4) / (b8 + b4)\n",
        "train_df['Normalized Difference 800/680'] = (b8 - b4) / (b8 + b4)\n",
        "train_df['Normalized Difference 819/1600'] = (b8 - b11) / (b8 + b11)\n",
        "train_df['Normalized Difference 819/1649'] = (b8 - b11) / (b8 + b11)\n",
        "train_df['Normalized Difference 820/1600'] = (b8 - b11) / (b8 + b11)\n",
        "train_df['Normalized Difference 827/668'] = (b8 - b4) / (b8 + b4)\n",
        "train_df['Normalized Difference 833/1649'] = (b8 - b11) / (b8 + b11)\n",
        "train_df['Normalized Difference 833/658'] = (b8 - b4) / (b8 + b4)\n",
        "train_df['Normalized Difference 860/1640'] = (b8a - b11) / (b8a + b11)\n",
        "train_df['Normalized Difference 895/675'] = (b8 - b4) / (b8 + b4)\n",
        "train_df['Normalized Difference Green/Red'] = (b3 - b4) / (b3 + b4)\n",
        "train_df['Normalized Difference NIR/Blue'] = (b8 - b2) / (b8 + b2)\n",
        "train_df['Normalized Difference NIR/Green'] = (b8 - b3) / (b8 + b3)\n",
        "train_df['Normalized Difference NIR/Red'] = (b8 - b4) / (b8 + b4)\n",
        "train_df['Normalized Difference NIR/Rededge'] = (b8 - b5) / (b8 + b5)\n",
        "train_df['Normalized Difference Red/Green'] = (b4 - b3) / (b4 + b3)\n",
        "train_df['Normalized Difference Salinity Index'] = (b11 - b12) / (b11 + b12)\n",
        "train_df['Normalized Difference Vegetation Index 690-710'] = (b8 - b5) / (b8 + b5)\n",
        "train_df['Optimized Soil Adjusted Vegetation Index'] = (1 + 0.16) * (b8 - b4) / (b8 + b4 + 0.16)\n",
        "train_df['Pan NDVI'] = (b8 - (b3 + b4 + b2)) / (b8 + (b3 + b4 + b2))\n",
        "train_df['RDVI'] = (b8 - b4) / ((b8 + b4).pow(0.5))\n",
        "train_df['RDVI2'] = (b8 - b4) / ((b8 + b4).pow(0.5))\n",
        "train_df['Red edge 1'] = b5 / b4\n",
        "train_df['Red edge 2'] = (b5 - b4) / (b5 + b4)\n",
        "train_df['Red-Blue NDVI'] = (b8 - (b4 + b2)) / (b8 + (b4 + b2))\n",
        "train_df['Red-Edge Inflection Point 1'] = 700 + 40 * ((((b4 + b7) / 2) - b5) / (b6 - b5))\n",
        "train_df['Red-Edge Inflection Point 2'] = 702 + 40 * ((((b4 + b7) / 2) - b5) / (b6 - b5))\n",
        "train_df['Red-Edge Inflection Point 3'] = 705 + 35 * ((((b4 + b7) / 2) - b5) / (b6 - b5))\n",
        "train_df['Red-Edge Position Linear Interpolation'] = 700 + 40 * ((((b4 + b7) / 2) - b5) / (b6 - b5))\n",
        "train_df['Reflectance at the inflexion point'] = (b4 + b7) / 2\n",
        "train_df['Renormalized Difference Vegetation Index'] = (b8 - b4) / ((b8 + b4).pow(0.5))\n",
        "train_df['Simple Ratio 1600/820'] = b11 / b8\n",
        "train_df['Simple Ratio 1650/2218'] = b11 / b12\n",
        "train_df['Simple Ratio 440/740'] = b1 / b6\n",
        "train_df['Simple Ratio 450/550'] = b1 / b3\n",
        "train_df['Simple Ratio 520/670'] = b2 / b4\n",
        "train_df['Simple Ratio 550/800'] = b3 / b8\n",
        "train_df['Simple Ratio 560/658'] = b3 / b4\n",
        "train_df['Simple Ratio 675/555'] = b4 / b3\n",
        "train_df['Simple Ratio 675/705'] = b4 / b5\n",
        "train_df['Simple Ratio 700'] = 1 / b5\n",
        "train_df['Simple Ratio 710/670'] = b5 / b4\n",
        "train_df['Simple Ratio 735/710'] = b6 / b5\n",
        "train_df['Simple Ratio 774/677'] = b7 / b4\n",
        "train_df['Simple Ratio 800/2170'] = b8 / b12\n",
        "train_df['Simple Ratio 800/500'] = b8 / b2\n",
        "train_df['Simple Ratio 810/560'] = b8 / b3\n",
        "train_df['Simple Ratio 833/1649'] = b8 / b11\n",
        "train_df['Simple Ratio 833/658'] = b8 / b4\n",
        "train_df['Simple Ratio 850/710'] = b8 / b5\n",
        "train_df['Simple Ratio 860/550'] = b8a / b3\n",
        "train_df['Simple Ratio 860/708'] = b8a / b5\n",
        "train_df['Simple Ratio NIR/700-715'] = b8 / b5\n",
        "train_df['Simple Ratio NIR/G'] = b8 / b3\n",
        "train_df['Simple Ratio NIR/RED'] = b8 / b4\n",
        "train_df['Simple Ratio NIR/Rededge'] = b8 / b5\n",
        "train_df['Simple Ratio Red/Blue'] = b4 / b2\n",
        "train_df['Simple Ratio Red/Green'] = b4 / b3\n",
        "train_df['Simple Ratio Red/NIR'] = b4 / b8\n",
        "train_df['Soil Adjusted Vegetation Index'] = (b8 - b4) / (b8 + b4 + 0.48) * (1 + 0.48)\n",
        "train_df['SQRT(IR/R)'] = (b8 / b4).pow(0.5)\n",
        "train_df['Structure Intensive Pigment Index 1'] = (b8 - b1) / (b8 - b4)\n",
        "train_df['Structure Intensive Pigment Index 3'] = (b8 - b2) / (b8 - b4)\n",
        "train_df['TCARI/OSAVI'] = (3 * ((b5 - b4) - (0.2 * (b5 - b3) * (b5 / b4)))) / ((1 + 0.16) * ((b8 - b4)/(b8 + b4 + 0.16)))\n",
        "train_df['Transformed Chlorophyll Absorbtion Ratio'] = 3 * ((b5 - b4) - (0.2 * (b5 - b3) * (b5 / b4)))\n",
        "train_df['Transformed NDVI'] = ((b8 - b4) / (b8 + b4) + 0.5).pow(0.5)\n",
        "train_df['Triangular chlorophyll index'] = 1.2 * (b5 - b3) - 1.5 * (b4 - b3) * (b5 / b4).pow(0.5)\n",
        "train_df['Vegetation Index 700'] = (b5 - b4) / (b5 + b4)\n",
        "train_df['Visible Atmospherically Resistant Index Green'] = (b3 - b4) / (b3 + b4 + b2)\n",
        "train_df['Visible Atmospherically Resistant Indices RedEdge'] = (b5 - b4) / (b5 + b4)\n",
        "train_df['Wide Dynamic Range Vegetation Index'] = (0.1 * b8 - b4) / (0.1 * b8 + b4)"
      ]
    },
    {
      "cell_type": "code",
      "execution_count": 10,
      "metadata": {
        "colab": {
          "base_uri": "https://localhost:8080/"
        },
        "id": "5DRliIpEvrrE",
        "outputId": "122c169c-8eb4-42e0-806a-9c53e642183b"
      },
      "outputs": [
        {
          "data": {
            "text/plain": [
              "(13053, 173)"
            ]
          },
          "execution_count": 10,
          "metadata": {},
          "output_type": "execute_result"
        }
      ],
      "source": [
        "train_df.shape"
      ]
    },
    {
      "cell_type": "markdown",
      "metadata": {
        "id": "eK-uScTYfzXc"
      },
      "source": [
        "# ML"
      ]
    },
    {
      "cell_type": "code",
      "execution_count": 11,
      "metadata": {
        "id": "IcYkCxFy-c8V"
      },
      "outputs": [],
      "source": [
        "from sklearn.model_selection import train_test_split"
      ]
    },
    {
      "cell_type": "code",
      "execution_count": 12,
      "metadata": {
        "id": "dDDOVW5V-hL7"
      },
      "outputs": [],
      "source": [
        "feature = [\n",
        "    'b1', 'b11', 'b12', 'b2', 'b3', 'b4', 'b5', 'b6', 'b7', 'b8', 'b8_a', 'b9', 'NDVI', 'EVI', 'NDWI', 'SAVI', 'MSAVI',\n",
        "    'GNDVI', 'RENDVI', 'NDMI', 'GRVI', 'TVI', 'MCARI', 'BSI', 'NBR', 'MSI'\n",
        "    , 'Adjusted transformed soil-adjusted VI',\n",
        "    'Aerosol free vegetation index 1600', 'Aerosol free vegetation index 2100', 'Alteration', 'Anthocyanin reflectance index',\n",
        "    'Atmospherically Resistant Vegetation Index 2', 'Blue-wide dynamic range vegetation index', 'Browning Reflectance Index',\n",
        "    'Chlorophyll Absorption Ratio Index', 'Chlorophyll Green', 'Chlorophyll Index Green', 'Chlorophyll IndexRedEdge',\n",
        "    'Chlorophyll Red-Edge', 'Chlorophyll vegetation index', 'Coloration Index', 'CRI550', 'CRI700', 'Datt1', 'Datt4',\n",
        "    'Datt6', 'Difference 678/500', 'Difference 800/550', 'Difference 800/680', 'Difference 833/658', 'Difference NIR/Green',\n",
        "    'EVI 2', 'Ferrous Silicates', 'Global Environment Monitoring Index', 'Gossan', 'Green atmospherically resistant vegetation index',\n",
        "    'Green leaf index', 'Green Normalized Difference Vegetation Index', 'Green Soil Adjusted Vegetation Index', 'Green-Blue NDVI',\n",
        "    'Green-Red NDVI', 'Hue', 'Infrared percentage vegetation index', 'Intensity', 'Inverse reflectance 550', 'Inverse reflectance 700',\n",
        "    'Laterite', 'Leaf Chlorophyll Index', 'Log Ratio', 'Maccioni', 'MCARI/MTVI2', 'MCARI/OSAVI', 'mCRIG', 'mCRIRE', 'mND680',\n",
        "    'Modified anthocyanin reflectance index', 'Modified Chlorophyll Absorption in Reflectance Index',\n",
        "    'Modified Chlorophyll Absorption in Reflectance Index 1', 'Modified Chlorophyll Absorption in Reflectance Index 2',\n",
        "    'Modified NDVI', 'Modified Simple Ratio 670,800', 'Modified Simple Ratio NIR/RED', 'Modified Soil Adjusted Vegetation Index',\n",
        "    'Modified Soil Adjusted Vegetation Index hyper', 'Modified Triangular Vegetation Index 1', 'Modified Triangular Vegetation Index 2',\n",
        "    'Norm G', 'Norm NIR', 'Norm R', 'Normalized Difference 550/450', 'Normalized Difference 550/650', 'Normalized Difference 774/677',\n",
        "    'Normalized Difference 780/550', 'Normalized Difference 782/666', 'Normalized Difference 790/670', 'Normalized Difference 800/2170',\n",
        "    'Normalized Difference 800/470', 'Normalized Difference 800/500', 'Normalized Difference 800/550', 'Normalized Difference 800/650',\n",
        "    'Normalized Difference 800/675', 'Normalized Difference 800/680', 'Normalized Difference 819/1600', 'Normalized Difference 819/1649',\n",
        "    'Normalized Difference 820/1600', 'Normalized Difference 827/668', 'Normalized Difference 833/1649', 'Normalized Difference 833/658',\n",
        "    'Normalized Difference 860/1640', 'Normalized Difference 895/675', 'Normalized Difference Green/Red', 'Normalized Difference NIR/Blue',\n",
        "    'Normalized Difference NIR/Green', 'Normalized Difference NIR/Red', 'Normalized Difference NIR/Rededge', 'Normalized Difference Red/Green',\n",
        "    'Normalized Difference Salinity Index', 'Normalized Difference Vegetation Index 690-710', 'Optimized Soil Adjusted Vegetation Index',\n",
        "    'Pan NDVI', 'RDVI', 'RDVI2', 'Red edge 1', 'Red edge 2', 'Red-Blue NDVI', 'Red-Edge Inflection Point 1', 'Red-Edge Inflection Point 2',\n",
        "    'Red-Edge Inflection Point 3', 'Red-Edge Position Linear Interpolation', 'Reflectance at the inflexion point',\n",
        "    'Renormalized Difference Vegetation Index', 'Simple Ratio 1600/820', 'Simple Ratio 1650/2218', 'Simple Ratio 440/740',\n",
        "    'Simple Ratio 450/550', 'Simple Ratio 520/670', 'Simple Ratio 550/800', 'Simple Ratio 560/658', 'Simple Ratio 675/555',\n",
        "    'Simple Ratio 675/705', 'Simple Ratio 700', 'Simple Ratio 710/670', 'Simple Ratio 735/710', 'Simple Ratio 774/677',\n",
        "    'Simple Ratio 800/2170', 'Simple Ratio 800/500', 'Simple Ratio 810/560', 'Simple Ratio 833/1649', 'Simple Ratio 833/658',\n",
        "    'Simple Ratio 850/710', 'Simple Ratio 860/550', 'Simple Ratio 860/708', 'Simple Ratio NIR/700-715', 'Simple Ratio NIR/G',\n",
        "    'Simple Ratio NIR/RED', 'Simple Ratio NIR/Rededge', 'Simple Ratio Red/Blue', 'Simple Ratio Red/Green', 'Simple Ratio Red/NIR',\n",
        "    'Soil Adjusted Vegetation Index', 'SQRT(IR/R)', 'Structure Intensive Pigment Index 1', 'Structure Intensive Pigment Index 3',\n",
        "    'TCARI/OSAVI', 'Transformed Chlorophyll Absorbtion Ratio', 'Transformed NDVI', 'Triangular chlorophyll index', 'Vegetation Index 700',\n",
        "    'Visible Atmospherically Resistant Index Green', 'Visible Atmospherically Resistant Indices RedEdge', 'Wide Dynamic Range Vegetation Index'\n",
        "]\n",
        "target = ['nforest_type']"
      ]
    },
    {
      "cell_type": "code",
      "execution_count": 13,
      "metadata": {
        "id": "ejl75hjN-eiX"
      },
      "outputs": [],
      "source": [
        "X = train_df[feature]\n",
        "y = train_df[target]"
      ]
    },
    {
      "cell_type": "code",
      "execution_count": 14,
      "metadata": {
        "id": "GlWUiM6LKvNp"
      },
      "outputs": [],
      "source": [
        "from sklearn import model_selection, preprocessing\n",
        "X_train, X_test, y_train, y_test = model_selection.train_test_split(X, y, random_state=21, test_size=0.08)"
      ]
    },
    {
      "cell_type": "code",
      "execution_count": 15,
      "metadata": {
        "colab": {
          "base_uri": "https://localhost:8080/"
        },
        "id": "hoI3VWgG-w_G",
        "outputId": "5b11a29a-d788-4d37-e9f5-facf6451fc90"
      },
      "outputs": [
        {
          "name": "stdout",
          "output_type": "stream",
          "text": [
            "(12008, 171)\n",
            "(1045, 171)\n",
            "(12008, 1)\n",
            "(1045, 1)\n"
          ]
        }
      ],
      "source": [
        "print(X_train.shape)\n",
        "print(X_test.shape)\n",
        "print(y_train.shape)\n",
        "print(y_test.shape)"
      ]
    },
    {
      "cell_type": "markdown",
      "metadata": {
        "id": "FuqfF-GviHFE"
      },
      "source": [
        "## Catboot"
      ]
    },
    {
      "cell_type": "code",
      "execution_count": 16,
      "metadata": {
        "colab": {
          "base_uri": "https://localhost:8080/"
        },
        "id": "AKazjq9RjCP9",
        "outputId": "f45752ed-412f-4d35-b4c1-f5b4d47bedae"
      },
      "outputs": [
        {
          "name": "stdout",
          "output_type": "stream",
          "text": [
            "\u001b[2K     \u001b[90m━━━━━━━━━━━━━━━━━━━━━━━━━━━━━━━━━━━━━━━━\u001b[0m \u001b[32m98.2/98.2 MB\u001b[0m \u001b[31m21.9 MB/s\u001b[0m eta \u001b[36m0:00:00\u001b[0m\n",
            "\u001b[?25h"
          ]
        }
      ],
      "source": [
        "!pip install -q catboost"
      ]
    },
    {
      "cell_type": "code",
      "execution_count": 17,
      "metadata": {
        "id": "jC8yET2iS7rB"
      },
      "outputs": [],
      "source": [
        "from catboost import CatBoostClassifier\n",
        "from sklearn.metrics import make_scorer, accuracy_score"
      ]
    },
    {
      "cell_type": "markdown",
      "metadata": {
        "id": "fuhd5EFzBsRe"
      },
      "source": [
        "Hyper parameter from Optuna in Optuna Folder"
      ]
    },
    {
      "cell_type": "code",
      "execution_count": 20,
      "metadata": {
        "id": "_6Qluxak_rCe"
      },
      "outputs": [],
      "source": [
        "clf = CatBoostClassifier(iterations=5000,\n",
        "                           learning_rate=0.02469147543829647,\n",
        "                           l2_leaf_reg=0.0315775775719611,\n",
        "                           depth=10,\n",
        "                           min_data_in_leaf=21,\n",
        "                           devices='0',\n",
        "                           eval_metric='Accuracy',\n",
        "                           colsample_bylevel= 0.2507721914805017,)"
      ]
    },
    {
      "cell_type": "code",
      "execution_count": null,
      "metadata": {
        "colab": {
          "base_uri": "https://localhost:8080/"
        },
        "collapsed": true,
        "id": "iA1aLgoA_ScM",
        "outputId": "74fc63ca-2700-442d-80ba-8f96390a831b"
      },
      "outputs": [],
      "source": [
        "clf_model = clf.fit(X_train, y_train)\n",
        "acc5 = model_selection.cross_val_score(\n",
        "    clf_model,\n",
        "    X_test,\n",
        "    y_test,\n",
        "    cv=7).mean()"
      ]
    },
    {
      "cell_type": "code",
      "execution_count": 22,
      "metadata": {
        "colab": {
          "base_uri": "https://localhost:8080/"
        },
        "id": "B8e8d-0GmVkW",
        "outputId": "0faf1a89-44c7-44bb-bbec-882ad2b12c19"
      },
      "outputs": [
        {
          "name": "stdout",
          "output_type": "stream",
          "text": [
            "['DEF', 'DDF', 'DDF', 'MDF', 'DDF', 'DEF', 'MDF', 'DDF', 'MDF', 'MDF', 'MDF', 'MDF', 'MDF', 'DDF', 'DEF', 'MDF', 'DDF', 'DEF', 'DDF', 'MDF', 'MDF', 'DDF', 'MDF', 'MDF', 'DEF', 'MDF', 'MDF', 'DDF', 'MDF', 'DEF', 'MDF', 'DDF', 'MDF', 'DEF', 'MDF', 'DDF', 'MDF', 'DDF', 'DEF', 'DDF', 'MDF', 'DDF', 'DEF', 'MDF', 'DDF', 'MDF', 'DEF', 'DDF', 'DEF', 'DDF', 'MDF', 'MDF', 'MDF', 'MDF', 'MDF', 'MDF', 'MDF', 'DEF', 'DEF', 'MDF', 'DDF', 'DDF', 'DDF', 'MDF', 'MDF', 'MDF', 'DEF', 'MDF', 'MDF', 'DDF', 'DDF', 'MDF', 'DDF', 'MDF', 'DDF', 'DDF', 'MDF', 'DEF', 'MDF', 'MDF', 'MDF', 'DDF', 'DDF', 'MDF', 'MDF', 'MDF', 'MDF', 'MDF', 'DEF', 'DDF', 'DDF', 'MDF', 'DEF', 'DDF', 'MDF', 'MDF', 'DDF', 'DDF', 'MDF', 'DDF', 'DDF', 'MDF', 'DEF', 'MDF', 'MDF', 'DDF', 'MDF', 'DEF', 'MDF', 'MDF', 'DEF', 'MDF', 'MDF', 'DDF', 'DDF', 'MDF', 'DEF', 'DEF', 'DDF', 'DEF', 'DDF', 'DEF', 'DEF', 'MDF', 'MDF', 'DDF', 'DDF', 'DEF', 'MDF', 'DDF', 'MDF', 'MDF', 'DEF', 'MDF', 'MDF', 'MDF', 'MDF', 'MDF', 'DDF', 'DDF', 'MDF', 'DDF', 'DDF', 'MDF', 'DDF', 'DDF', 'DDF', 'MDF', 'DEF', 'MDF', 'DEF', 'MDF', 'DDF', 'DDF', 'MDF', 'DDF', 'DEF', 'DDF', 'DDF', 'DEF', 'DDF', 'DDF', 'MDF', 'MDF', 'MDF', 'DDF', 'DEF', 'DDF', 'DDF', 'MDF', 'MDF', 'MDF', 'MDF', 'MDF', 'DDF', 'MDF', 'DDF', 'DDF', 'DDF', 'MDF', 'MDF', 'MDF', 'DDF', 'DEF', 'DDF', 'DDF', 'MDF', 'MDF', 'DEF', 'MDF', 'DEF', 'MDF', 'DDF', 'DDF', 'DDF', 'DDF', 'DDF', 'DDF', 'MDF', 'DEF', 'MDF', 'DDF', 'DDF', 'DEF', 'MDF', 'DEF', 'DDF', 'MDF', 'DEF', 'MDF', 'DDF', 'DEF', 'DDF', 'MDF', 'MDF', 'MDF', 'DDF', 'MDF', 'MDF', 'MDF', 'MDF', 'MDF', 'DEF', 'DDF', 'DEF', 'MDF', 'MDF', 'MDF', 'MDF', 'MDF', 'DDF', 'DDF', 'MDF', 'MDF', 'DDF', 'DDF', 'DEF', 'MDF', 'DEF', 'DEF', 'DDF', 'DDF', 'MDF', 'DDF', 'MDF', 'DDF', 'MDF', 'DDF', 'DDF', 'DDF', 'MDF', 'DDF', 'MDF', 'DDF', 'MDF', 'DDF', 'MDF', 'DDF', 'DDF', 'DDF', 'DEF', 'MDF', 'MDF', 'DDF', 'DDF', 'DDF', 'MDF', 'DDF', 'DDF', 'MDF', 'DEF', 'MDF', 'DEF', 'MDF', 'MDF', 'MDF', 'DDF', 'MDF', 'DDF', 'MDF', 'MDF', 'DDF', 'MDF', 'DEF', 'DDF', 'MDF', 'MDF', 'MDF', 'MDF', 'DDF', 'MDF', 'MDF', 'MDF', 'DEF', 'MDF', 'MDF', 'MDF', 'MDF', 'DDF', 'MDF', 'DDF', 'DDF', 'MDF', 'MDF', 'DEF', 'DDF', 'DDF', 'DDF', 'MDF', 'DDF', 'DEF', 'DDF', 'MDF', 'MDF', 'MDF', 'DEF', 'DDF', 'MDF', 'DEF', 'DEF', 'MDF', 'DDF', 'DEF', 'MDF', 'DDF', 'DDF', 'MDF', 'DDF', 'MDF', 'MDF', 'DEF', 'DEF', 'DDF', 'DEF', 'MDF', 'MDF', 'DEF', 'DDF', 'MDF', 'MDF', 'MDF', 'DDF', 'MDF', 'DDF', 'MDF', 'DEF', 'DDF', 'DDF', 'MDF', 'DDF', 'DDF', 'MDF', 'MDF', 'MDF', 'DDF', 'DDF', 'MDF', 'DDF', 'DDF', 'MDF', 'DEF', 'MDF', 'DDF', 'MDF', 'MDF', 'MDF', 'MDF', 'DDF', 'MDF', 'DDF', 'MDF', 'DEF', 'MDF', 'MDF', 'DEF', 'MDF', 'DEF', 'DDF', 'DDF', 'MDF', 'MDF', 'MDF', 'DEF', 'MDF', 'DDF', 'MDF', 'MDF', 'DDF', 'MDF', 'MDF', 'DDF', 'MDF', 'DDF', 'DDF', 'DEF', 'MDF', 'MDF', 'MDF', 'MDF', 'DDF', 'MDF', 'DDF', 'MDF', 'DDF', 'DDF', 'MDF', 'DDF', 'DDF', 'DDF', 'MDF', 'DDF', 'DEF', 'MDF', 'MDF', 'DEF', 'MDF', 'MDF', 'DEF', 'MDF', 'DDF', 'DDF', 'DEF', 'MDF', 'DDF', 'MDF', 'MDF', 'MDF', 'MDF', 'MDF', 'DDF', 'MDF', 'DEF', 'DEF', 'MDF', 'MDF', 'DDF', 'MDF', 'DEF', 'DDF', 'MDF', 'DEF', 'DEF', 'DEF', 'DEF', 'MDF', 'MDF', 'DDF', 'MDF', 'DDF', 'DDF', 'DDF', 'MDF', 'MDF', 'MDF', 'MDF', 'MDF', 'MDF', 'DDF', 'DDF', 'DDF', 'MDF', 'MDF', 'DEF', 'DDF', 'MDF', 'DDF', 'DDF', 'MDF', 'MDF', 'DEF', 'MDF', 'MDF', 'MDF', 'DDF', 'MDF', 'DDF', 'DDF', 'DDF', 'MDF', 'MDF', 'DDF', 'DDF', 'DDF', 'DDF', 'MDF', 'DDF', 'MDF', 'DEF', 'DDF', 'MDF', 'DEF', 'MDF', 'DDF', 'DDF', 'MDF', 'DEF', 'MDF', 'MDF', 'MDF', 'DDF', 'DEF', 'MDF', 'DDF', 'DEF', 'MDF', 'DDF', 'DEF', 'MDF', 'MDF', 'DEF', 'MDF', 'DDF', 'DDF', 'MDF', 'DDF', 'DDF', 'MDF', 'MDF', 'DEF', 'MDF', 'DDF', 'DDF', 'MDF', 'MDF', 'MDF', 'MDF', 'DDF', 'MDF', 'DDF', 'MDF', 'DDF', 'DEF', 'DEF', 'DDF', 'DDF', 'DEF', 'DDF', 'DDF', 'MDF', 'MDF', 'DDF', 'DDF', 'MDF', 'MDF', 'MDF', 'DDF', 'MDF', 'MDF', 'MDF', 'MDF', 'MDF', 'MDF', 'MDF', 'DDF', 'DDF', 'MDF', 'DDF', 'DDF', 'MDF', 'DDF', 'MDF', 'MDF', 'MDF', 'DEF', 'MDF', 'DDF', 'MDF', 'MDF', 'DDF', 'MDF', 'DDF', 'MDF', 'DDF', 'MDF', 'MDF', 'MDF', 'MDF', 'MDF', 'DDF', 'MDF', 'DDF', 'DDF', 'DDF', 'DDF', 'DDF', 'MDF', 'MDF', 'DDF', 'MDF', 'DDF', 'DDF', 'MDF', 'MDF', 'MDF', 'DEF', 'MDF', 'MDF', 'MDF', 'DDF', 'MDF', 'DDF', 'MDF', 'DEF', 'MDF', 'DEF', 'MDF', 'DEF', 'DDF', 'DDF', 'MDF', 'DEF', 'DEF', 'DDF', 'MDF', 'MDF', 'DEF', 'DDF', 'MDF', 'DEF', 'MDF', 'MDF', 'DEF', 'MDF', 'DDF', 'MDF', 'DDF', 'MDF', 'DDF', 'MDF', 'MDF', 'DDF', 'MDF', 'DDF', 'DDF', 'MDF', 'DDF', 'DEF', 'DDF', 'DDF', 'DDF', 'DDF', 'MDF', 'DEF', 'DDF', 'DEF', 'MDF', 'MDF', 'MDF', 'DEF', 'DEF', 'DDF', 'MDF', 'MDF', 'MDF', 'DDF', 'DEF', 'MDF', 'DDF', 'DDF', 'DDF', 'DDF', 'DEF', 'DDF', 'MDF', 'MDF', 'MDF', 'DEF', 'DDF', 'DDF', 'MDF', 'MDF', 'MDF', 'MDF', 'DEF', 'MDF', 'DDF', 'MDF', 'DEF', 'MDF', 'MDF', 'DDF', 'MDF', 'MDF', 'MDF', 'MDF', 'DDF', 'DDF', 'MDF', 'DEF', 'DEF', 'DDF', 'DDF', 'MDF', 'DDF', 'DDF', 'DDF', 'DDF', 'MDF', 'DDF', 'DDF', 'MDF', 'MDF', 'MDF', 'DDF', 'MDF', 'DEF', 'MDF', 'MDF', 'MDF', 'DDF', 'MDF', 'DEF', 'DEF', 'DEF', 'MDF', 'MDF', 'DDF', 'DEF', 'MDF', 'MDF', 'DEF', 'DDF', 'MDF', 'DDF', 'DEF', 'MDF', 'MDF', 'MDF', 'MDF', 'DDF', 'DEF', 'DEF', 'DEF', 'DEF', 'DDF', 'MDF', 'DDF', 'MDF', 'MDF', 'MDF', 'DEF', 'MDF', 'DEF', 'DEF', 'DDF', 'MDF', 'DDF', 'MDF', 'DEF', 'DDF', 'MDF', 'DEF', 'DDF', 'DDF', 'MDF', 'DDF', 'MDF', 'DEF', 'MDF', 'MDF', 'DDF', 'MDF', 'MDF', 'DDF', 'DEF', 'MDF', 'DDF', 'DDF', 'DEF', 'MDF', 'MDF', 'DEF', 'DDF', 'MDF', 'MDF', 'MDF', 'DEF', 'DDF', 'DDF', 'MDF', 'DDF', 'DDF', 'MDF', 'MDF', 'MDF', 'MDF', 'DDF', 'DEF', 'MDF', 'MDF', 'DEF', 'MDF', 'MDF', 'MDF', 'MDF', 'MDF', 'MDF', 'MDF', 'MDF', 'MDF', 'MDF', 'DEF', 'DDF', 'MDF', 'MDF', 'DDF', 'DDF', 'DDF', 'MDF', 'DDF', 'MDF', 'DDF', 'DDF', 'DDF', 'MDF', 'DDF', 'DEF', 'MDF', 'DDF', 'MDF', 'MDF', 'DDF', 'DDF', 'DDF', 'DDF', 'MDF', 'DDF', 'DDF', 'MDF', 'MDF', 'MDF', 'MDF', 'MDF', 'MDF', 'MDF', 'MDF', 'DDF', 'DDF', 'MDF', 'DEF', 'DDF', 'DDF', 'DDF', 'MDF', 'DDF', 'DDF', 'DDF', 'DEF', 'DDF', 'MDF', 'MDF', 'MDF', 'MDF', 'MDF', 'MDF', 'MDF', 'MDF', 'DDF', 'DDF', 'MDF', 'MDF', 'DDF', 'DDF', 'MDF', 'DDF', 'DEF', 'DDF', 'MDF', 'DEF', 'DDF', 'DDF', 'MDF', 'MDF', 'MDF', 'MDF', 'DDF', 'MDF', 'DDF', 'MDF', 'DDF', 'MDF', 'DEF', 'DDF', 'DDF', 'DDF', 'DEF', 'DDF', 'DDF', 'DDF', 'MDF', 'MDF', 'DDF', 'DDF', 'MDF', 'DDF', 'DDF', 'DDF', 'MDF', 'DDF', 'DDF', 'DDF', 'DDF', 'MDF', 'MDF', 'MDF', 'DDF', 'DEF', 'DDF', 'DDF', 'MDF', 'MDF', 'MDF', 'MDF', 'DEF', 'DDF', 'DDF', 'DDF', 'DEF', 'MDF', 'DDF', 'DDF', 'MDF', 'DDF', 'DEF', 'MDF', 'DDF', 'MDF', 'DDF', 'MDF', 'MDF', 'MDF', 'DDF', 'MDF', 'MDF', 'MDF', 'MDF', 'MDF', 'MDF', 'MDF', 'DDF', 'MDF', 'DDF', 'DDF', 'DDF', 'MDF', 'MDF', 'MDF', 'MDF', 'DEF', 'DDF', 'DDF', 'MDF', 'DDF', 'DDF', 'DDF', 'DDF', 'DDF', 'DDF', 'MDF', 'MDF', 'MDF', 'DEF', 'DDF', 'DEF', 'DEF', 'MDF', 'MDF', 'MDF', 'DDF', 'MDF', 'DDF', 'MDF', 'DDF', 'MDF', 'DDF', 'DDF', 'DDF', 'MDF', 'DDF', 'MDF', 'DDF', 'DDF', 'DDF', 'DDF', 'DEF', 'MDF', 'DDF', 'DEF', 'DEF', 'DEF', 'MDF', 'DEF', 'DEF', 'DDF', 'MDF', 'MDF', 'MDF', 'MDF', 'DDF', 'MDF', 'DDF', 'MDF', 'MDF', 'DEF', 'MDF', 'DDF', 'DDF', 'DDF', 'MDF', 'MDF', 'MDF', 'DDF', 'DDF', 'DDF', 'MDF', 'MDF', 'DDF', 'MDF', 'MDF', 'MDF', 'DDF', 'MDF', 'MDF', 'DEF', 'MDF', 'DDF', 'DDF', 'MDF', 'MDF', 'DDF', 'MDF', 'MDF', 'DDF', 'MDF', 'MDF', 'MDF', 'DEF', 'DDF', 'MDF', 'MDF', 'MDF', 'MDF', 'DDF', 'DDF', 'DEF']\n"
          ]
        }
      ],
      "source": [
        "y_pred = clf_model.predict(data=X_test)\n",
        "y_pred = [item for sublist in y_pred for item in sublist]\n",
        "\n",
        "print(y_pred)"
      ]
    },
    {
      "cell_type": "code",
      "execution_count": 24,
      "metadata": {
        "colab": {
          "base_uri": "https://localhost:8080/"
        },
        "id": "DMW0tgTqOTTB",
        "outputId": "9cb062e1-2bf9-444d-9153-4033b89683bb"
      },
      "outputs": [
        {
          "name": "stdout",
          "output_type": "stream",
          "text": [
            "Accuracy Count: 0.6248130393096835 \n",
            "\n",
            "\n",
            "\n"
          ]
        }
      ],
      "source": [
        "print(\"Accuracy Count:\", acc5, \"\\n\\n\\n\")"
      ]
    },
    {
      "cell_type": "code",
      "execution_count": 25,
      "metadata": {
        "colab": {
          "base_uri": "https://localhost:8080/"
        },
        "id": "8AxzKeGWOfbp",
        "outputId": "2830a5e2-cf79-4402-e614-a4ead25d92ac"
      },
      "outputs": [
        {
          "name": "stdout",
          "output_type": "stream",
          "text": [
            "                   pre       rec       spe        f1       geo       iba       sup\n",
            "\n",
            "        DDF       0.67      0.69      0.81      0.68      0.75      0.55       372\n",
            "        DEF       0.79      0.75      0.96      0.77      0.85      0.70       171\n",
            "        MDF       0.74      0.74      0.76      0.74      0.75      0.57       502\n",
            "\n",
            "avg / total       0.72      0.72      0.81      0.72      0.77      0.58      1045\n",
            "\n"
          ]
        }
      ],
      "source": [
        "from imblearn.metrics import classification_report_imbalanced\n",
        "print(classification_report_imbalanced(y_test, y_pred))"
      ]
    },
    {
      "cell_type": "code",
      "execution_count": 27,
      "metadata": {
        "colab": {
          "base_uri": "https://localhost:8080/",
          "height": 622
        },
        "id": "aKxcZunwOi5j",
        "outputId": "6cb1e1d1-b51c-4af4-8c15-c90d852f1229"
      },
      "outputs": [
        {
          "data": {
            "image/png": "[encoded data removed]",
            "text/plain": [
              "<Figure size 900x700 with 2 Axes>"
            ]
          },
          "metadata": {},
          "output_type": "display_data"
        }
      ],
      "source": [
        "from sklearn.metrics import confusion_matrix\n",
        "import seaborn as sns\n",
        "\n",
        "cm = confusion_matrix(y_test, y_pred)\n",
        "plt.figure(figsize=(9,7))\n",
        "plt.title(\"Catboots Optuna\")\n",
        "sns.heatmap(cm, annot=True, fmt=\"d\", linewidths=0.5 ,cbar=True),\n",
        "plt.show()"
      ]
    },
    {
      "cell_type": "markdown",
      "metadata": {
        "id": "cYgNT3T3LkCH"
      },
      "source": [
        "# Test"
      ]
    },
    {
      "cell_type": "code",
      "execution_count": null,
      "metadata": {
        "colab": {
          "base_uri": "https://localhost:8080/",
          "height": 424
        },
        "id": "iHZF1GLpJopc",
        "outputId": "8c6b59de-1d56-48b4-9390-28d60a972bb1"
      },
      "outputs": [],
      "source": [
        "df_test = pd.read_csv('/content/test.csv')\n",
        "df_test"
      ]
    },
    {
      "cell_type": "code",
      "execution_count": 30,
      "metadata": {
        "id": "ucSq-sWzmc99"
      },
      "outputs": [],
      "source": [
        "b1 = df_test['b1']\n",
        "b11 = df_test['b11']\n",
        "b12 = df_test['b12']\n",
        "b2 = df_test['b2']\n",
        "b3 = df_test['b3']\n",
        "b4 = df_test['b4']\n",
        "b5 = df_test['b5']\n",
        "b6 = df_test['b6']\n",
        "b7 = df_test['b7']\n",
        "b8 = df_test['b8']\n",
        "b8a = df_test['b8_a']\n",
        "b9 = df_test['b9']"
      ]
    },
    {
      "cell_type": "code",
      "execution_count": 31,
      "metadata": {
        "id": "X4HTm5jYaY8L"
      },
      "outputs": [],
      "source": [
        "df_test['NDVI'] = (df_test['b8'] - df_test['b4']) / (df_test['b8'] + df_test['b4'])\n",
        "df_test['EVI'] = 2.5 * ((df_test['b8'] - df_test['b4']) / (df_test['b8'] + 6 * df_test['b4'] - 7.5 * df_test['b2'] + 1.01))\n",
        "df_test['NDWI'] = (df_test['b3'] - df_test['b8']) / (df_test['b3'] + df_test['b8'])\n",
        "df_test['SAVI'] = (df_test['b8'] - df_test['b4']) * (1 + 0.5) / (df_test['b8'] + df_test['b4'] + 0.5)\n",
        "df_test['MSAVI'] = (2 * df_test['b8'] + 1 - ( (2 * df_test['b8'] + 1) ** 2 - 8 * (df_test['b8'] - df_test['b4'])) ** (1 / 2)) / 2\n",
        "df_test['GNDVI'] = (df_test['b8'] - df_test['b3']) / (df_test['b8'] + df_test['b3'])\n",
        "df_test['RENDVI'] = (df_test['b8'] - df_test['b5']) / (df_test['b8'] + df_test['b5'])\n",
        "df_test['NDMI'] = (df_test['b8'] - df_test['b11']) / (df_test['b8'] + df_test['b11'])\n",
        "df_test['GRVI'] = (df_test['b3'] - df_test['b4']) / (df_test['b3'] + df_test['b4'])\n",
        "df_test['TVI'] = ( (df_test['b8'] - df_test['b4']) / (df_test['b8'] + df_test['b4'] + 0.5) ) ** (1 / 2)\n",
        "df_test['MCARI'] = ((df_test['b5'] - df_test['b4']) - 0.2 * (df_test['b5'] - df_test['b3'])) / (df_test['b5'] / df_test['b4'])\n",
        "df_test['BSI'] =  ((df_test['b11'] + df_test['b4']) - (df_test['b8'] + df_test['b2'])) / ((df_test['b11'] + df_test['b4']) + (df_test['b8'] + df_test['b2']))\n",
        "df_test['NBR'] = (df_test['b8'] - df_test['b12']) / (df_test['b8'] + df_test['b12'])\n",
        "df_test['MSI'] = df_test['b11'] / df_test['b8']"
      ]
    },
    {
      "cell_type": "code",
      "execution_count": null,
      "metadata": {
        "colab": {
          "base_uri": "https://localhost:8080/"
        },
        "collapsed": true,
        "id": "3l_pDah8mg0x",
        "outputId": "0d83c16b-ef0d-41c2-f39b-640e42492eee"
      },
      "outputs": [],
      "source": [
        "df_test['Adjusted transformed soil-adjusted VI'] = 1.22 * (b8 - 1.22 * b4 - 0.03) / (1.22 * b8 + b4 - 1.22 * 0.03 + 0.08 * (1 + 1.22 ** 2))\n",
        "df_test['Aerosol free vegetation index 1600'] = b8 - 0.66 * b11 / (b8 + 0.66 * b11)\n",
        "df_test['Aerosol free vegetation index 2100'] = b8 - 0.5 * b12 / (b8 + 0.56 * b12)\n",
        "df_test['Alteration'] = b11 / b12\n",
        "df_test['Anthocyanin reflectance index'] = 1 / b3 - 1 / b5\n",
        "df_test['Atmospherically Resistant Vegetation Index 2'] = -0.18 + 1.17 * (b8 - b4) / (b8 + b4)\n",
        "df_test['Blue-wide dynamic range vegetation index'] = (0.1 * b8 - b2) / (0.1 * b8 + b2)\n",
        "df_test['Browning Reflectance Index'] = (1 / b3 - 1 / b5) / b8\n",
        "df_test['Chlorophyll Absorption Ratio Index'] = (b5 / b4) * np.sqrt(((b5 - b3) / 150 * 670 + b4 + (b3 - ((b5 - b3) / 150 * 550))) ** 2) / np.sqrt(((b5 - b3) / (150 ** 2) + 1))\n",
        "df_test['Chlorophyll Green'] = (b7 / b3) ** -1\n",
        "df_test['Chlorophyll Index Green'] = (b8 / b3) - 1\n",
        "df_test['Chlorophyll IndexRedEdge'] = (b8 / b5) - 1\n",
        "df_test['Chlorophyll Red-Edge'] = (b7 / b5) ** -1\n",
        "df_test['Chlorophyll vegetation index'] = b8 * b4 / (b3 ** 2)\n",
        "df_test['Coloration Index'] = (b4 - b2) / b4\n",
        "df_test['CRI550'] = (b2.astype(float) ** -1) - (b3.astype(float) ** -1)\n",
        "df_test['CRI700'] = (b2.astype(float) ** -1) - (b5.astype(float) ** -1)\n",
        "df_test['Datt1'] = (b8 - b5) / (b8 - b4)\n",
        "df_test['Datt4'] = b4 / (b3 * b5)\n",
        "df_test['Datt6'] = b8a / (b3 * b5)\n",
        "df_test['Difference 678/500'] = b4 - b2\n",
        "df_test['Difference 800/550'] = b8 - b3\n",
        "df_test['Difference 800/680'] = b8 - b4\n",
        "df_test['Difference 833/658'] = b8 - b4\n",
        "df_test['Difference NIR/Green'] = b8 - b3\n",
        "df_test['EVI'] = 2.5 * (b8 - b4) / (b8 + (6 * b4) + (-7.5 * b2) + 1)\n",
        "df_test['EVI 2'] = 2.4 * (b8 - b4) / (b8 + b4 + 1)\n",
        "df_test['Ferrous Silicates'] = b12 / b11\n",
        "df_test['Global Environment Monitoring Index'] =  (2 * (b8 ** 2 - b4 ** 2) + 1.5 * b8 + 0.5 * b4) / (b8 + b4 + 0.5) * (1 - 0.25 * (2 * (b8 ** 2 - b4 ** 2) + 1.5 * b8 + 0.5 * b4) / (b8 + b4 + 0.5)) - ((b4 - 0.125) / (1 - b4))\n",
        "df_test['Gossan'] = b11 / b4\n",
        "df_test['Green atmospherically resistant vegetation index'] = (b8 - (b3 - (b2 - b4)))/(b8 - (b3 + (b2 - b4)))\n",
        "df_test['Green leaf index'] = (2 * b3 - b4 - b2) / (2 * b3 + b4 + b2)\n",
        "df_test['Green Normalized Difference Vegetation Index'] = (b8 - b3) / (b8 + b3)\n",
        "df_test['Green Soil Adjusted Vegetation Index'] = (b8 - b3) / (b8 + b3 + 0.48) * (1 + 0.48)\n",
        "df_test['Green-Blue NDVI'] = (b8 - (b3 + b2)) / (b8 + (b3 + b2))\n",
        "df_test['Green-Red NDVI'] = (b8 - (b3 + b4)) / (b8 + (b3 + b4))\n",
        "df_test['Hue'] = np.arctan((2 * b4 - b3 - b2) / (30.5 * (b3 - b2)))\n",
        "df_test['Infrared percentage vegetation index'] = (b8 / (b8 + b4)) / 2 * (df_test['NDVI'] + 1)\n",
        "df_test['Intensity'] = (1/30.5) * (b4 + b3 + b2)\n",
        "df_test['Inverse reflectance 550'] = b3.astype(float) ** -1\n",
        "df_test['Inverse reflectance 700'] = b5.astype(float) ** -1\n",
        "df_test['Laterite'] = b11 / b12\n",
        "df_test['Leaf Chlorophyll Index'] = (b8 - b5) / (b8 + b4)\n",
        "df_test['Log Ratio'] = np.log(b8 / b4)\n",
        "df_test['Maccioni'] = (b7 - b5) / (b7 - b4)\n",
        "df_test['MCARI/MTVI2'] = (((b5 - b4) - 0.2 * (b5 - b3)) * (b5 / b4)) / (1.5 * (1.2 * (b8 - b3) - 2.5 * (b4 - b3)) / (np.sqrt((2 * b8 + 1) ** 2 - (6 * b8 - 5 * np.sqrt(4)) - 0.5)))\n",
        "df_test['MCARI/OSAVI'] = ((b5 - b4) - 0.2 * (b5 - b3) * (b5 / b4))/ ((1 + 0.16) * (b8 - b4) / (b8 + b4 + 0.16))\n",
        "df_test['mCRIG'] = (b2.astype(float) ** -1 - b3.astype(float) ** -1) * b8\n",
        "df_test['mCRIRE'] = (b2.astype(float) ** -1 - b5.astype(float) ** -1) * b8\n",
        "df_test['mND680'] = (b8 - b4) / (b8 + b4 - 2 * b1)\n",
        "df_test['Modified anthocyanin reflectance index'] = (b3.astype(float) ** -1 - b5.astype(float) ** -1) * b8\n",
        "df_test['Modified Chlorophyll Absorption in Reflectance Index'] = ((b5 - b4) - 0.2 * (b5 - b3)) * (b5 / b4)\n",
        "df_test['Modified Chlorophyll Absorption in Reflectance Index 1'] = 1.2 * (2.5 * (b8 - b4) - 1.3 * (b8 - b3))\n",
        "df_test['Modified Chlorophyll Absorption in Reflectance Index 2'] = 1.5 * (2.5 * (b8 - b4) - 1.3 * (b8 - b3)) / (np.sqrt((2 * b8 + 1) ** 2 - (6 * b8 - 5 * np.sqrt(b4)) - 0.5))\n",
        "df_test['Modified NDVI'] = (b8 - b4) / (b8 + b4 - 2 * b1)\n",
        "df_test['Modified Simple Ratio 670,800'] = ((b8 / b4) - 1) /np.sqrt((b8 - b4) + 1)\n",
        "df_test['Modified Simple Ratio NIR/RED'] = ((b8 / b4) - 1) /np.sqrt((b8 / b4) + 1)\n",
        "df_test['Modified Soil Adjusted Vegetation Index'] = (2 * b8 + 1 - np.sqrt((2 * b8 + 1) ** 2 - 8 * (b8 - b4)))/2\n",
        "df_test['Modified Soil Adjusted Vegetation Index hyper'] = (0.5) * ((2 * b8 + 1) - np.sqrt((2 * b8 + 1) ** 2 - 8 * (b8 - b4)))\n",
        "df_test['Modified Triangular Vegetation Index 1'] = 1.2 * (1.2 * (b8 - b3) - 2.5 * (b4 - b3))\n",
        "df_test['Modified Triangular Vegetation Index 2'] = 1.5 * (1.2 * (b8 - b3) - 2.5 * (b4 - b3)) / np.sqrt((2 * b8 + 1) ** 2 - (6 * b8 - 5 * np.sqrt(b4)) - 0.5)\n",
        "df_test['Norm G'] = b3 / (b8 + b4 + b3)\n",
        "df_test['Norm NIR'] = b8 / (b8 + b4 + b3)\n",
        "df_test['Norm R'] = b4 / (b8 + b4 + b3)\n",
        "df_test['Normalized Difference 550/450'] = (b3 - b1) / (b3 + b1)\n",
        "df_test['Normalized Difference 550/650'] = (b3 - b4) / (b3 + b4)\n",
        "df_test['Normalized Difference 774/677'] = (b7 - b4) / (b7 + b4)\n",
        "df_test['Normalized Difference 780/550'] = (b7 - b3) / (b7 + b3)\n",
        "df_test['Normalized Difference 782/666'] = (b7 - b4) / (b7 + b4)\n",
        "df_test['Normalized Difference 790/670'] = (b7 - b4) / (b7 + b4)\n",
        "df_test['Normalized Difference 800/2170'] = (b8 - b12) / (b8 + b12)\n",
        "df_test['Normalized Difference 800/470'] = (b8 - b2) / (b8 + b2)\n",
        "df_test['Normalized Difference 800/500'] = (b8 - b2) / (b8 + b2)\n",
        "df_test['Normalized Difference 800/550'] = (b8 - b3) / (b8 + b3)\n",
        "df_test['Normalized Difference 800/650'] = (b8 - b4) / (b8 + b4)\n",
        "df_test['Normalized Difference 800/675'] = (b8 - b4) / (b8 + b4)\n",
        "df_test['Normalized Difference 800/680'] = (b8 - b4) / (b8 + b4)\n",
        "df_test['Normalized Difference 819/1600'] = (b8 - b11) / (b8 + b11)\n",
        "df_test['Normalized Difference 819/1649'] = (b8 - b11) / (b8 + b11)\n",
        "df_test['Normalized Difference 820/1600'] = (b8 - b11) / (b8 + b11)\n",
        "df_test['Normalized Difference 827/668'] = (b8 - b4) / (b8 + b4)\n",
        "df_test['Normalized Difference 833/1649'] = (b8 - b11) / (b8 + b11)\n",
        "df_test['Normalized Difference 833/658'] = (b8 - b4) / (b8 + b4)\n",
        "df_test['Normalized Difference 860/1640'] = (b8a - b11) / (b8a + b11)\n",
        "df_test['Normalized Difference 895/675'] = (b8 - b4) / (b8 + b4)\n",
        "df_test['Normalized Difference Green/Red'] = (b3 - b4) / (b3 + b4)\n",
        "df_test['Normalized Difference NIR/Blue'] = (b8 - b2) / (b8 + b2)\n",
        "df_test['Normalized Difference NIR/Green'] = (b8 - b3) / (b8 + b3)\n",
        "df_test['Normalized Difference NIR/Red'] = (b8 - b4) / (b8 + b4)\n",
        "df_test['Normalized Difference NIR/Rededge'] = (b8 - b5) / (b8 + b5)\n",
        "df_test['Normalized Difference Red/Green'] = (b4 - b3) / (b4 + b3)\n",
        "df_test['Normalized Difference Salinity Index'] = (b11 - b12) / (b11 + b12)\n",
        "df_test['Normalized Difference Vegetation Index 690-710'] = (b8 - b5) / (b8 + b5)\n",
        "df_test['Optimized Soil Adjusted Vegetation Index'] = (1 + 0.16) * (b8 - b4) / (b8 + b4 + 0.16)\n",
        "df_test['Pan NDVI'] = (b8 - (b3 + b4 + b2)) / (b8 + (b3 + b4 + b2))\n",
        "df_test['RDVI'] = (b8 - b4) / ((b8 + b4).pow(0.5))\n",
        "df_test['RDVI2'] = (b8 - b4) / ((b8 + b4).pow(0.5))\n",
        "df_test['Red edge 1'] = b5 / b4\n",
        "df_test['Red edge 2'] = (b5 - b4) / (b5 + b4)\n",
        "df_test['Red-Blue NDVI'] = (b8 - (b4 + b2)) / (b8 + (b4 + b2))\n",
        "df_test['Red-Edge Inflection Point 1'] = 700 + 40 * ((((b4 + b7) / 2) - b5) / (b6 - b5))\n",
        "df_test['Red-Edge Inflection Point 2'] = 702 + 40 * ((((b4 + b7) / 2) - b5) / (b6 - b5))\n",
        "df_test['Red-Edge Inflection Point 3'] = 705 + 35 * ((((b4 + b7) / 2) - b5) / (b6 - b5))\n",
        "df_test['Red-Edge Position Linear Interpolation'] = 700 + 40 * ((((b4 + b7) / 2) - b5) / (b6 - b5))\n",
        "df_test['Reflectance at the inflexion point'] = (b4 + b7) / 2\n",
        "df_test['Renormalized Difference Vegetation Index'] = (b8 - b4) / ((b8 + b4).pow(0.5))\n",
        "df_test['Simple Ratio 1600/820'] = b11 / b8\n",
        "df_test['Simple Ratio 1650/2218'] = b11 / b12\n",
        "df_test['Simple Ratio 440/740'] = b1 / b6\n",
        "df_test['Simple Ratio 450/550'] = b1 / b3\n",
        "df_test['Simple Ratio 520/670'] = b2 / b4\n",
        "df_test['Simple Ratio 550/800'] = b3 / b8\n",
        "df_test['Simple Ratio 560/658'] = b3 / b4\n",
        "df_test['Simple Ratio 675/555'] = b4 / b3\n",
        "df_test['Simple Ratio 675/705'] = b4 / b5\n",
        "df_test['Simple Ratio 700'] = 1 / b5\n",
        "df_test['Simple Ratio 710/670'] = b5 / b4\n",
        "df_test['Simple Ratio 735/710'] = b6 / b5\n",
        "df_test['Simple Ratio 774/677'] = b7 / b4\n",
        "df_test['Simple Ratio 800/2170'] = b8 / b12\n",
        "df_test['Simple Ratio 800/500'] = b8 / b2\n",
        "df_test['Simple Ratio 810/560'] = b8 / b3\n",
        "df_test['Simple Ratio 833/1649'] = b8 / b11\n",
        "df_test['Simple Ratio 833/658'] = b8 / b4\n",
        "df_test['Simple Ratio 850/710'] = b8 / b5\n",
        "df_test['Simple Ratio 860/550'] = b8a / b3\n",
        "df_test['Simple Ratio 860/708'] = b8a / b5\n",
        "df_test['Simple Ratio NIR/700-715'] = b8 / b5\n",
        "df_test['Simple Ratio NIR/G'] = b8 / b3\n",
        "df_test['Simple Ratio NIR/RED'] = b8 / b4\n",
        "df_test['Simple Ratio NIR/Rededge'] = b8 / b5\n",
        "df_test['Simple Ratio Red/Blue'] = b4 / b2\n",
        "df_test['Simple Ratio Red/Green'] = b4 / b3\n",
        "df_test['Simple Ratio Red/NIR'] = b4 / b8\n",
        "df_test['Soil Adjusted Vegetation Index'] = (b8 - b4) / (b8 + b4 + 0.48) * (1 + 0.48)\n",
        "df_test['SQRT(IR/R)'] = (b8 / b4).pow(0.5)\n",
        "df_test['Structure Intensive Pigment Index 1'] = (b8 - b1) / (b8 - b4)\n",
        "df_test['Structure Intensive Pigment Index 3'] = (b8 - b2) / (b8 - b4)\n",
        "df_test['TCARI/OSAVI'] = (3 * ((b5 - b4) - (0.2 * (b5 - b3) * (b5 / b4)))) / ((1 + 0.16) * ((b8 - b4)/(b8 + b4 + 0.16)))\n",
        "df_test['Transformed Chlorophyll Absorbtion Ratio'] = 3 * ((b5 - b4) - (0.2 * (b5 - b3) * (b5 / b4)))\n",
        "df_test['Transformed NDVI'] = ((b8 - b4) / (b8 + b4) + 0.5).pow(0.5)\n",
        "df_test['Triangular chlorophyll index'] = 1.2 * (b5 - b3) - 1.5 * (b4 - b3) * (b5 / b4).pow(0.5)\n",
        "df_test['Vegetation Index 700'] = (b5 - b4) / (b5 + b4)\n",
        "df_test['Visible Atmospherically Resistant Index Green'] = (b3 - b4) / (b3 + b4 + b2)\n",
        "df_test['Visible Atmospherically Resistant Indices RedEdge'] = (b5 - b4) / (b5 + b4)\n",
        "df_test['Wide Dynamic Range Vegetation Index'] = (0.1 * b8 - b4) / (0.1 * b8 + b4)"
      ]
    },
    {
      "cell_type": "code",
      "execution_count": null,
      "metadata": {
        "colab": {
          "base_uri": "https://localhost:8080/",
          "height": 513
        },
        "id": "TGaOBykFLpz5",
        "outputId": "45fd0985-a64a-4100-f594-c39133c16140"
      },
      "outputs": [],
      "source": [
        "feature = [\n",
        "    'b1', 'b11', 'b12', 'b2', 'b3', 'b4', 'b5', 'b6', 'b7', 'b8', 'b8_a', 'b9', 'NDVI', 'EVI', 'NDWI', 'SAVI', 'MSAVI',\n",
        "    'GNDVI', 'RENDVI', 'NDMI', 'GRVI', 'TVI', 'MCARI', 'BSI', 'NBR', 'MSI'\n",
        "    , 'Adjusted transformed soil-adjusted VI',\n",
        "    'Aerosol free vegetation index 1600', 'Aerosol free vegetation index 2100', 'Alteration', 'Anthocyanin reflectance index',\n",
        "    'Atmospherically Resistant Vegetation Index 2', 'Blue-wide dynamic range vegetation index', 'Browning Reflectance Index',\n",
        "    'Chlorophyll Absorption Ratio Index', 'Chlorophyll Green', 'Chlorophyll Index Green', 'Chlorophyll IndexRedEdge',\n",
        "    'Chlorophyll Red-Edge', 'Chlorophyll vegetation index', 'Coloration Index', 'CRI550', 'CRI700', 'Datt1', 'Datt4',\n",
        "    'Datt6', 'Difference 678/500', 'Difference 800/550', 'Difference 800/680', 'Difference 833/658', 'Difference NIR/Green',\n",
        "    'EVI 2', 'Ferrous Silicates', 'Global Environment Monitoring Index', 'Gossan', 'Green atmospherically resistant vegetation index',\n",
        "    'Green leaf index', 'Green Normalized Difference Vegetation Index', 'Green Soil Adjusted Vegetation Index', 'Green-Blue NDVI',\n",
        "    'Green-Red NDVI', 'Hue', 'Infrared percentage vegetation index', 'Intensity', 'Inverse reflectance 550', 'Inverse reflectance 700',\n",
        "    'Laterite', 'Leaf Chlorophyll Index', 'Log Ratio', 'Maccioni', 'MCARI/MTVI2', 'MCARI/OSAVI', 'mCRIG', 'mCRIRE', 'mND680',\n",
        "    'Modified anthocyanin reflectance index', 'Modified Chlorophyll Absorption in Reflectance Index',\n",
        "    'Modified Chlorophyll Absorption in Reflectance Index 1', 'Modified Chlorophyll Absorption in Reflectance Index 2',\n",
        "    'Modified NDVI', 'Modified Simple Ratio 670,800', 'Modified Simple Ratio NIR/RED', 'Modified Soil Adjusted Vegetation Index',\n",
        "    'Modified Soil Adjusted Vegetation Index hyper', 'Modified Triangular Vegetation Index 1', 'Modified Triangular Vegetation Index 2',\n",
        "    'Norm G', 'Norm NIR', 'Norm R', 'Normalized Difference 550/450', 'Normalized Difference 550/650', 'Normalized Difference 774/677',\n",
        "    'Normalized Difference 780/550', 'Normalized Difference 782/666', 'Normalized Difference 790/670', 'Normalized Difference 800/2170',\n",
        "    'Normalized Difference 800/470', 'Normalized Difference 800/500', 'Normalized Difference 800/550', 'Normalized Difference 800/650',\n",
        "    'Normalized Difference 800/675', 'Normalized Difference 800/680', 'Normalized Difference 819/1600', 'Normalized Difference 819/1649',\n",
        "    'Normalized Difference 820/1600', 'Normalized Difference 827/668', 'Normalized Difference 833/1649', 'Normalized Difference 833/658',\n",
        "    'Normalized Difference 860/1640', 'Normalized Difference 895/675', 'Normalized Difference Green/Red', 'Normalized Difference NIR/Blue',\n",
        "    'Normalized Difference NIR/Green', 'Normalized Difference NIR/Red', 'Normalized Difference NIR/Rededge', 'Normalized Difference Red/Green',\n",
        "    'Normalized Difference Salinity Index', 'Normalized Difference Vegetation Index 690-710', 'Optimized Soil Adjusted Vegetation Index',\n",
        "    'Pan NDVI', 'RDVI', 'RDVI2', 'Red edge 1', 'Red edge 2', 'Red-Blue NDVI', 'Red-Edge Inflection Point 1', 'Red-Edge Inflection Point 2',\n",
        "    'Red-Edge Inflection Point 3', 'Red-Edge Position Linear Interpolation', 'Reflectance at the inflexion point',\n",
        "    'Renormalized Difference Vegetation Index', 'Simple Ratio 1600/820', 'Simple Ratio 1650/2218', 'Simple Ratio 440/740',\n",
        "    'Simple Ratio 450/550', 'Simple Ratio 520/670', 'Simple Ratio 550/800', 'Simple Ratio 560/658', 'Simple Ratio 675/555',\n",
        "    'Simple Ratio 675/705', 'Simple Ratio 700', 'Simple Ratio 710/670', 'Simple Ratio 735/710', 'Simple Ratio 774/677',\n",
        "    'Simple Ratio 800/2170', 'Simple Ratio 800/500', 'Simple Ratio 810/560', 'Simple Ratio 833/1649', 'Simple Ratio 833/658',\n",
        "    'Simple Ratio 850/710', 'Simple Ratio 860/550', 'Simple Ratio 860/708', 'Simple Ratio NIR/700-715', 'Simple Ratio NIR/G',\n",
        "    'Simple Ratio NIR/RED', 'Simple Ratio NIR/Rededge', 'Simple Ratio Red/Blue', 'Simple Ratio Red/Green', 'Simple Ratio Red/NIR',\n",
        "    'Soil Adjusted Vegetation Index', 'SQRT(IR/R)', 'Structure Intensive Pigment Index 1', 'Structure Intensive Pigment Index 3',\n",
        "    'TCARI/OSAVI', 'Transformed Chlorophyll Absorbtion Ratio', 'Transformed NDVI', 'Triangular chlorophyll index', 'Vegetation Index 700',\n",
        "    'Visible Atmospherically Resistant Index Green', 'Visible Atmospherically Resistant Indices RedEdge', 'Wide Dynamic Range Vegetation Index'\n",
        "]\n",
        "df_test_feature = df_test[feature]\n",
        "df_test_feature"
      ]
    },
    {
      "cell_type": "code",
      "execution_count": null,
      "metadata": {
        "colab": {
          "base_uri": "https://localhost:8080/"
        },
        "id": "xyAxiE-YL8Ha",
        "outputId": "095b248c-ff91-4285-a800-16baee1e7b9b"
      },
      "outputs": [],
      "source": [
        "test_cat = clf_model.predict(df_test_feature)\n",
        "print(test_cat , \"len : \", len(test_cat))"
      ]
    },
    {
      "cell_type": "code",
      "execution_count": null,
      "metadata": {
        "colab": {
          "base_uri": "https://localhost:8080/"
        },
        "id": "xJQ3L-QerKGi",
        "outputId": "12b5f538-9707-4b9b-edb5-1f828f8f7e07"
      },
      "outputs": [],
      "source": [
        "#catboots\n",
        "test_cat = [item for sublist in test_cat for item in sublist]\n",
        "\n",
        "print(test_cat)"
      ]
    },
    {
      "cell_type": "code",
      "execution_count": 36,
      "metadata": {
        "colab": {
          "base_uri": "https://localhost:8080/",
          "height": 424
        },
        "id": "Sog4jv5cUdXs",
        "outputId": "9333754a-02d2-4356-ff67-a93ea0c80b4d"
      },
      "outputs": [
        {
          "data": {
            "application/vnd.google.colaboratory.intrinsic+json": {
              "summary": "{\n  \"name\": \"sample_sub\",\n  \"rows\": 4000,\n  \"fields\": [\n    {\n      \"column\": \"id\",\n      \"properties\": {\n        \"dtype\": \"number\",\n        \"std\": 4936,\n        \"min\": 1,\n        \"max\": 17052,\n        \"num_unique_values\": 4000,\n        \"samples\": [\n          4371,\n          2112,\n          1925\n        ],\n        \"semantic_type\": \"\",\n        \"description\": \"\"\n      }\n    },\n    {\n      \"column\": \"nforest_type\",\n      \"properties\": {\n        \"dtype\": \"category\",\n        \"num_unique_values\": 3,\n        \"samples\": [\n          \"DEF\",\n          \"DDF\",\n          \"MDF\"\n        ],\n        \"semantic_type\": \"\",\n        \"description\": \"\"\n      }\n    }\n  ]\n}",
              "type": "dataframe",
              "variable_name": "sample_sub"
            },
            "text/html": [
              "\n",
              "  <div id=\"df-8f6a1745-1890-4321-befa-46b2675b3518\" class=\"colab-df-container\">\n",
              "    <div>\n",
              "<style scoped>\n",
              "    .dataframe tbody tr th:only-of-type {\n",
              "        vertical-align: middle;\n",
              "    }\n",
              "\n",
              "    .dataframe tbody tr th {\n",
              "        vertical-align: top;\n",
              "    }\n",
              "\n",
              "    .dataframe thead th {\n",
              "        text-align: right;\n",
              "    }\n",
              "</style>\n",
              "<table border=\"1\" class=\"dataframe\">\n",
              "  <thead>\n",
              "    <tr style=\"text-align: right;\">\n",
              "      <th></th>\n",
              "      <th>id</th>\n",
              "      <th>nforest_type</th>\n",
              "    </tr>\n",
              "  </thead>\n",
              "  <tbody>\n",
              "    <tr>\n",
              "      <th>0</th>\n",
              "      <td>13467</td>\n",
              "      <td>DEF</td>\n",
              "    </tr>\n",
              "    <tr>\n",
              "      <th>1</th>\n",
              "      <td>12719</td>\n",
              "      <td>DDF</td>\n",
              "    </tr>\n",
              "    <tr>\n",
              "      <th>2</th>\n",
              "      <td>1054</td>\n",
              "      <td>MDF</td>\n",
              "    </tr>\n",
              "    <tr>\n",
              "      <th>3</th>\n",
              "      <td>13747</td>\n",
              "      <td>NaN</td>\n",
              "    </tr>\n",
              "    <tr>\n",
              "      <th>4</th>\n",
              "      <td>9453</td>\n",
              "      <td>NaN</td>\n",
              "    </tr>\n",
              "    <tr>\n",
              "      <th>...</th>\n",
              "      <td>...</td>\n",
              "      <td>...</td>\n",
              "    </tr>\n",
              "    <tr>\n",
              "      <th>3995</th>\n",
              "      <td>115</td>\n",
              "      <td>NaN</td>\n",
              "    </tr>\n",
              "    <tr>\n",
              "      <th>3996</th>\n",
              "      <td>10654</td>\n",
              "      <td>NaN</td>\n",
              "    </tr>\n",
              "    <tr>\n",
              "      <th>3997</th>\n",
              "      <td>5718</td>\n",
              "      <td>NaN</td>\n",
              "    </tr>\n",
              "    <tr>\n",
              "      <th>3998</th>\n",
              "      <td>13054</td>\n",
              "      <td>NaN</td>\n",
              "    </tr>\n",
              "    <tr>\n",
              "      <th>3999</th>\n",
              "      <td>6539</td>\n",
              "      <td>NaN</td>\n",
              "    </tr>\n",
              "  </tbody>\n",
              "</table>\n",
              "<p>4000 rows × 2 columns</p>\n",
              "</div>\n",
              "    <div class=\"colab-df-buttons\">\n",
              "\n",
              "  <div class=\"colab-df-container\">\n",
              "    <button class=\"colab-df-convert\" onclick=\"convertToInteractive('df-8f6a1745-1890-4321-befa-46b2675b3518')\"\n",
              "            title=\"Convert this dataframe to an interactive table.\"\n",
              "            style=\"display:none;\">\n",
              "\n",
              "  <svg xmlns=\"http://www.w3.org/2000/svg\" height=\"24px\" viewBox=\"0 -960 960 960\">\n",
              "    <path d=\"M120-120v-720h720v720H120Zm60-500h600v-160H180v160Zm220 220h160v-160H400v160Zm0 220h160v-160H400v160ZM180-400h160v-160H180v160Zm440 0h160v-160H620v160ZM180-180h160v-160H180v160Zm440 0h160v-160H620v160Z\"/>\n",
              "  </svg>\n",
              "    </button>\n",
              "\n",
              "  <style>\n",
              "    .colab-df-container {\n",
              "      display:flex;\n",
              "      gap: 12px;\n",
              "    }\n",
              "\n",
              "    .colab-df-convert {\n",
              "      background-color: #E8F0FE;\n",
              "      border: none;\n",
              "      border-radius: 50%;\n",
              "      cursor: pointer;\n",
              "      display: none;\n",
              "      fill: #1967D2;\n",
              "      height: 32px;\n",
              "      padding: 0 0 0 0;\n",
              "      width: 32px;\n",
              "    }\n",
              "\n",
              "    .colab-df-convert:hover {\n",
              "      background-color: #E2EBFA;\n",
              "      box-shadow: 0px 1px 2px rgba(60, 64, 67, 0.3), 0px 1px 3px 1px rgba(60, 64, 67, 0.15);\n",
              "      fill: #174EA6;\n",
              "    }\n",
              "\n",
              "    .colab-df-buttons div {\n",
              "      margin-bottom: 4px;\n",
              "    }\n",
              "\n",
              "    [theme=dark] .colab-df-convert {\n",
              "      background-color: #3B4455;\n",
              "      fill: #D2E3FC;\n",
              "    }\n",
              "\n",
              "    [theme=dark] .colab-df-convert:hover {\n",
              "      background-color: #434B5C;\n",
              "      box-shadow: 0px 1px 3px 1px rgba(0, 0, 0, 0.15);\n",
              "      filter: drop-shadow(0px 1px 2px rgba(0, 0, 0, 0.3));\n",
              "      fill: #FFFFFF;\n",
              "    }\n",
              "  </style>\n",
              "\n",
              "    <script>\n",
              "      const buttonEl =\n",
              "        document.querySelector('#df-8f6a1745-1890-4321-befa-46b2675b3518 button.colab-df-convert');\n",
              "      buttonEl.style.display =\n",
              "        google.colab.kernel.accessAllowed ? 'block' : 'none';\n",
              "\n",
              "      async function convertToInteractive(key) {\n",
              "        const element = document.querySelector('#df-8f6a1745-1890-4321-befa-46b2675b3518');\n",
              "        const dataTable =\n",
              "          await google.colab.kernel.invokeFunction('convertToInteractive',\n",
              "                                                    [key], {});\n",
              "        if (!dataTable) return;\n",
              "\n",
              "        const docLinkHtml = 'Like what you see? Visit the ' +\n",
              "          '<a target=\"_blank\" href=https://colab.research.google.com/notebooks/data_table.ipynb>data table notebook</a>'\n",
              "          + ' to learn more about interactive tables.';\n",
              "        element.innerHTML = '';\n",
              "        dataTable['output_type'] = 'display_data';\n",
              "        await google.colab.output.renderOutput(dataTable, element);\n",
              "        const docLink = document.createElement('div');\n",
              "        docLink.innerHTML = docLinkHtml;\n",
              "        element.appendChild(docLink);\n",
              "      }\n",
              "    </script>\n",
              "  </div>\n",
              "\n",
              "\n",
              "<div id=\"df-d887f94a-b164-43de-959c-3e4b5ebffb39\">\n",
              "  <button class=\"colab-df-quickchart\" onclick=\"quickchart('df-d887f94a-b164-43de-959c-3e4b5ebffb39')\"\n",
              "            title=\"Suggest charts\"\n",
              "            style=\"display:none;\">\n",
              "\n",
              "<svg xmlns=\"http://www.w3.org/2000/svg\" height=\"24px\"viewBox=\"0 0 24 24\"\n",
              "     width=\"24px\">\n",
              "    <g>\n",
              "        <path d=\"M19 3H5c-1.1 0-2 .9-2 2v14c0 1.1.9 2 2 2h14c1.1 0 2-.9 2-2V5c0-1.1-.9-2-2-2zM9 17H7v-7h2v7zm4 0h-2V7h2v10zm4 0h-2v-4h2v4z\"/>\n",
              "    </g>\n",
              "</svg>\n",
              "  </button>\n",
              "\n",
              "<style>\n",
              "  .colab-df-quickchart {\n",
              "      --bg-color: #E8F0FE;\n",
              "      --fill-color: #1967D2;\n",
              "      --hover-bg-color: #E2EBFA;\n",
              "      --hover-fill-color: #174EA6;\n",
              "      --disabled-fill-color: #AAA;\n",
              "      --disabled-bg-color: #DDD;\n",
              "  }\n",
              "\n",
              "  [theme=dark] .colab-df-quickchart {\n",
              "      --bg-color: #3B4455;\n",
              "      --fill-color: #D2E3FC;\n",
              "      --hover-bg-color: #434B5C;\n",
              "      --hover-fill-color: #FFFFFF;\n",
              "      --disabled-bg-color: #3B4455;\n",
              "      --disabled-fill-color: #666;\n",
              "  }\n",
              "\n",
              "  .colab-df-quickchart {\n",
              "    background-color: var(--bg-color);\n",
              "    border: none;\n",
              "    border-radius: 50%;\n",
              "    cursor: pointer;\n",
              "    display: none;\n",
              "    fill: var(--fill-color);\n",
              "    height: 32px;\n",
              "    padding: 0;\n",
              "    width: 32px;\n",
              "  }\n",
              "\n",
              "  .colab-df-quickchart:hover {\n",
              "    background-color: var(--hover-bg-color);\n",
              "    box-shadow: 0 1px 2px rgba(60, 64, 67, 0.3), 0 1px 3px 1px rgba(60, 64, 67, 0.15);\n",
              "    fill: var(--button-hover-fill-color);\n",
              "  }\n",
              "\n",
              "  .colab-df-quickchart-complete:disabled,\n",
              "  .colab-df-quickchart-complete:disabled:hover {\n",
              "    background-color: var(--disabled-bg-color);\n",
              "    fill: var(--disabled-fill-color);\n",
              "    box-shadow: none;\n",
              "  }\n",
              "\n",
              "  .colab-df-spinner {\n",
              "    border: 2px solid var(--fill-color);\n",
              "    border-color: transparent;\n",
              "    border-bottom-color: var(--fill-color);\n",
              "    animation:\n",
              "      spin 1s steps(1) infinite;\n",
              "  }\n",
              "\n",
              "  @keyframes spin {\n",
              "    0% {\n",
              "      border-color: transparent;\n",
              "      border-bottom-color: var(--fill-color);\n",
              "      border-left-color: var(--fill-color);\n",
              "    }\n",
              "    20% {\n",
              "      border-color: transparent;\n",
              "      border-left-color: var(--fill-color);\n",
              "      border-top-color: var(--fill-color);\n",
              "    }\n",
              "    30% {\n",
              "      border-color: transparent;\n",
              "      border-left-color: var(--fill-color);\n",
              "      border-top-color: var(--fill-color);\n",
              "      border-right-color: var(--fill-color);\n",
              "    }\n",
              "    40% {\n",
              "      border-color: transparent;\n",
              "      border-right-color: var(--fill-color);\n",
              "      border-top-color: var(--fill-color);\n",
              "    }\n",
              "    60% {\n",
              "      border-color: transparent;\n",
              "      border-right-color: var(--fill-color);\n",
              "    }\n",
              "    80% {\n",
              "      border-color: transparent;\n",
              "      border-right-color: var(--fill-color);\n",
              "      border-bottom-color: var(--fill-color);\n",
              "    }\n",
              "    90% {\n",
              "      border-color: transparent;\n",
              "      border-bottom-color: var(--fill-color);\n",
              "    }\n",
              "  }\n",
              "</style>\n",
              "\n",
              "  <script>\n",
              "    async function quickchart(key) {\n",
              "      const quickchartButtonEl =\n",
              "        document.querySelector('#' + key + ' button');\n",
              "      quickchartButtonEl.disabled = true;  // To prevent multiple clicks.\n",
              "      quickchartButtonEl.classList.add('colab-df-spinner');\n",
              "      try {\n",
              "        const charts = await google.colab.kernel.invokeFunction(\n",
              "            'suggestCharts', [key], {});\n",
              "      } catch (error) {\n",
              "        console.error('Error during call to suggestCharts:', error);\n",
              "      }\n",
              "      quickchartButtonEl.classList.remove('colab-df-spinner');\n",
              "      quickchartButtonEl.classList.add('colab-df-quickchart-complete');\n",
              "    }\n",
              "    (() => {\n",
              "      let quickchartButtonEl =\n",
              "        document.querySelector('#df-d887f94a-b164-43de-959c-3e4b5ebffb39 button');\n",
              "      quickchartButtonEl.style.display =\n",
              "        google.colab.kernel.accessAllowed ? 'block' : 'none';\n",
              "    })();\n",
              "  </script>\n",
              "</div>\n",
              "    </div>\n",
              "  </div>\n"
            ],
            "text/plain": [
              "         id nforest_type\n",
              "0     13467          DEF\n",
              "1     12719          DDF\n",
              "2      1054          MDF\n",
              "3     13747          NaN\n",
              "4      9453          NaN\n",
              "...     ...          ...\n",
              "3995    115          NaN\n",
              "3996  10654          NaN\n",
              "3997   5718          NaN\n",
              "3998  13054          NaN\n",
              "3999   6539          NaN\n",
              "\n",
              "[4000 rows x 2 columns]"
            ]
          },
          "execution_count": 36,
          "metadata": {},
          "output_type": "execute_result"
        }
      ],
      "source": [
        "sample_sub = pd.read_csv('/content/sample_submission.csv')\n",
        "sample_sub"
      ]
    },
    {
      "cell_type": "code",
      "execution_count": 37,
      "metadata": {
        "colab": {
          "base_uri": "https://localhost:8080/",
          "height": 424
        },
        "id": "lQrWOppbUrkR",
        "outputId": "9182f7ed-e6a4-4e43-f232-212a51a58199"
      },
      "outputs": [
        {
          "data": {
            "application/vnd.google.colaboratory.intrinsic+json": {
              "summary": "{\n  \"name\": \"sample_sub\",\n  \"rows\": 4000,\n  \"fields\": [\n    {\n      \"column\": \"id\",\n      \"properties\": {\n        \"dtype\": \"number\",\n        \"std\": 4936,\n        \"min\": 1,\n        \"max\": 17052,\n        \"num_unique_values\": 4000,\n        \"samples\": [\n          4371,\n          2112,\n          1925\n        ],\n        \"semantic_type\": \"\",\n        \"description\": \"\"\n      }\n    },\n    {\n      \"column\": \"nforest_type\",\n      \"properties\": {\n        \"dtype\": \"category\",\n        \"num_unique_values\": 3,\n        \"samples\": [\n          \"DEF\",\n          \"MDF\",\n          \"DDF\"\n        ],\n        \"semantic_type\": \"\",\n        \"description\": \"\"\n      }\n    }\n  ]\n}",
              "type": "dataframe",
              "variable_name": "sample_sub"
            },
            "text/html": [
              "\n",
              "  <div id=\"df-e582893d-bfbc-4b52-9115-eb9183089820\" class=\"colab-df-container\">\n",
              "    <div>\n",
              "<style scoped>\n",
              "    .dataframe tbody tr th:only-of-type {\n",
              "        vertical-align: middle;\n",
              "    }\n",
              "\n",
              "    .dataframe tbody tr th {\n",
              "        vertical-align: top;\n",
              "    }\n",
              "\n",
              "    .dataframe thead th {\n",
              "        text-align: right;\n",
              "    }\n",
              "</style>\n",
              "<table border=\"1\" class=\"dataframe\">\n",
              "  <thead>\n",
              "    <tr style=\"text-align: right;\">\n",
              "      <th></th>\n",
              "      <th>id</th>\n",
              "      <th>nforest_type</th>\n",
              "    </tr>\n",
              "  </thead>\n",
              "  <tbody>\n",
              "    <tr>\n",
              "      <th>0</th>\n",
              "      <td>13467</td>\n",
              "      <td>DEF</td>\n",
              "    </tr>\n",
              "    <tr>\n",
              "      <th>1</th>\n",
              "      <td>12719</td>\n",
              "      <td>MDF</td>\n",
              "    </tr>\n",
              "    <tr>\n",
              "      <th>2</th>\n",
              "      <td>1054</td>\n",
              "      <td>MDF</td>\n",
              "    </tr>\n",
              "    <tr>\n",
              "      <th>3</th>\n",
              "      <td>13747</td>\n",
              "      <td>DDF</td>\n",
              "    </tr>\n",
              "    <tr>\n",
              "      <th>4</th>\n",
              "      <td>9453</td>\n",
              "      <td>DDF</td>\n",
              "    </tr>\n",
              "    <tr>\n",
              "      <th>...</th>\n",
              "      <td>...</td>\n",
              "      <td>...</td>\n",
              "    </tr>\n",
              "    <tr>\n",
              "      <th>3995</th>\n",
              "      <td>115</td>\n",
              "      <td>DEF</td>\n",
              "    </tr>\n",
              "    <tr>\n",
              "      <th>3996</th>\n",
              "      <td>10654</td>\n",
              "      <td>MDF</td>\n",
              "    </tr>\n",
              "    <tr>\n",
              "      <th>3997</th>\n",
              "      <td>5718</td>\n",
              "      <td>DEF</td>\n",
              "    </tr>\n",
              "    <tr>\n",
              "      <th>3998</th>\n",
              "      <td>13054</td>\n",
              "      <td>MDF</td>\n",
              "    </tr>\n",
              "    <tr>\n",
              "      <th>3999</th>\n",
              "      <td>6539</td>\n",
              "      <td>DEF</td>\n",
              "    </tr>\n",
              "  </tbody>\n",
              "</table>\n",
              "<p>4000 rows × 2 columns</p>\n",
              "</div>\n",
              "    <div class=\"colab-df-buttons\">\n",
              "\n",
              "  <div class=\"colab-df-container\">\n",
              "    <button class=\"colab-df-convert\" onclick=\"convertToInteractive('df-e582893d-bfbc-4b52-9115-eb9183089820')\"\n",
              "            title=\"Convert this dataframe to an interactive table.\"\n",
              "            style=\"display:none;\">\n",
              "\n",
              "  <svg xmlns=\"http://www.w3.org/2000/svg\" height=\"24px\" viewBox=\"0 -960 960 960\">\n",
              "    <path d=\"M120-120v-720h720v720H120Zm60-500h600v-160H180v160Zm220 220h160v-160H400v160Zm0 220h160v-160H400v160ZM180-400h160v-160H180v160Zm440 0h160v-160H620v160ZM180-180h160v-160H180v160Zm440 0h160v-160H620v160Z\"/>\n",
              "  </svg>\n",
              "    </button>\n",
              "\n",
              "  <style>\n",
              "    .colab-df-container {\n",
              "      display:flex;\n",
              "      gap: 12px;\n",
              "    }\n",
              "\n",
              "    .colab-df-convert {\n",
              "      background-color: #E8F0FE;\n",
              "      border: none;\n",
              "      border-radius: 50%;\n",
              "      cursor: pointer;\n",
              "      display: none;\n",
              "      fill: #1967D2;\n",
              "      height: 32px;\n",
              "      padding: 0 0 0 0;\n",
              "      width: 32px;\n",
              "    }\n",
              "\n",
              "    .colab-df-convert:hover {\n",
              "      background-color: #E2EBFA;\n",
              "      box-shadow: 0px 1px 2px rgba(60, 64, 67, 0.3), 0px 1px 3px 1px rgba(60, 64, 67, 0.15);\n",
              "      fill: #174EA6;\n",
              "    }\n",
              "\n",
              "    .colab-df-buttons div {\n",
              "      margin-bottom: 4px;\n",
              "    }\n",
              "\n",
              "    [theme=dark] .colab-df-convert {\n",
              "      background-color: #3B4455;\n",
              "      fill: #D2E3FC;\n",
              "    }\n",
              "\n",
              "    [theme=dark] .colab-df-convert:hover {\n",
              "      background-color: #434B5C;\n",
              "      box-shadow: 0px 1px 3px 1px rgba(0, 0, 0, 0.15);\n",
              "      filter: drop-shadow(0px 1px 2px rgba(0, 0, 0, 0.3));\n",
              "      fill: #FFFFFF;\n",
              "    }\n",
              "  </style>\n",
              "\n",
              "    <script>\n",
              "      const buttonEl =\n",
              "        document.querySelector('#df-e582893d-bfbc-4b52-9115-eb9183089820 button.colab-df-convert');\n",
              "      buttonEl.style.display =\n",
              "        google.colab.kernel.accessAllowed ? 'block' : 'none';\n",
              "\n",
              "      async function convertToInteractive(key) {\n",
              "        const element = document.querySelector('#df-e582893d-bfbc-4b52-9115-eb9183089820');\n",
              "        const dataTable =\n",
              "          await google.colab.kernel.invokeFunction('convertToInteractive',\n",
              "                                                    [key], {});\n",
              "        if (!dataTable) return;\n",
              "\n",
              "        const docLinkHtml = 'Like what you see? Visit the ' +\n",
              "          '<a target=\"_blank\" href=https://colab.research.google.com/notebooks/data_table.ipynb>data table notebook</a>'\n",
              "          + ' to learn more about interactive tables.';\n",
              "        element.innerHTML = '';\n",
              "        dataTable['output_type'] = 'display_data';\n",
              "        await google.colab.output.renderOutput(dataTable, element);\n",
              "        const docLink = document.createElement('div');\n",
              "        docLink.innerHTML = docLinkHtml;\n",
              "        element.appendChild(docLink);\n",
              "      }\n",
              "    </script>\n",
              "  </div>\n",
              "\n",
              "\n",
              "<div id=\"df-b4f704c1-e6f2-41bb-bcbd-acd0aff2e182\">\n",
              "  <button class=\"colab-df-quickchart\" onclick=\"quickchart('df-b4f704c1-e6f2-41bb-bcbd-acd0aff2e182')\"\n",
              "            title=\"Suggest charts\"\n",
              "            style=\"display:none;\">\n",
              "\n",
              "<svg xmlns=\"http://www.w3.org/2000/svg\" height=\"24px\"viewBox=\"0 0 24 24\"\n",
              "     width=\"24px\">\n",
              "    <g>\n",
              "        <path d=\"M19 3H5c-1.1 0-2 .9-2 2v14c0 1.1.9 2 2 2h14c1.1 0 2-.9 2-2V5c0-1.1-.9-2-2-2zM9 17H7v-7h2v7zm4 0h-2V7h2v10zm4 0h-2v-4h2v4z\"/>\n",
              "    </g>\n",
              "</svg>\n",
              "  </button>\n",
              "\n",
              "<style>\n",
              "  .colab-df-quickchart {\n",
              "      --bg-color: #E8F0FE;\n",
              "      --fill-color: #1967D2;\n",
              "      --hover-bg-color: #E2EBFA;\n",
              "      --hover-fill-color: #174EA6;\n",
              "      --disabled-fill-color: #AAA;\n",
              "      --disabled-bg-color: #DDD;\n",
              "  }\n",
              "\n",
              "  [theme=dark] .colab-df-quickchart {\n",
              "      --bg-color: #3B4455;\n",
              "      --fill-color: #D2E3FC;\n",
              "      --hover-bg-color: #434B5C;\n",
              "      --hover-fill-color: #FFFFFF;\n",
              "      --disabled-bg-color: #3B4455;\n",
              "      --disabled-fill-color: #666;\n",
              "  }\n",
              "\n",
              "  .colab-df-quickchart {\n",
              "    background-color: var(--bg-color);\n",
              "    border: none;\n",
              "    border-radius: 50%;\n",
              "    cursor: pointer;\n",
              "    display: none;\n",
              "    fill: var(--fill-color);\n",
              "    height: 32px;\n",
              "    padding: 0;\n",
              "    width: 32px;\n",
              "  }\n",
              "\n",
              "  .colab-df-quickchart:hover {\n",
              "    background-color: var(--hover-bg-color);\n",
              "    box-shadow: 0 1px 2px rgba(60, 64, 67, 0.3), 0 1px 3px 1px rgba(60, 64, 67, 0.15);\n",
              "    fill: var(--button-hover-fill-color);\n",
              "  }\n",
              "\n",
              "  .colab-df-quickchart-complete:disabled,\n",
              "  .colab-df-quickchart-complete:disabled:hover {\n",
              "    background-color: var(--disabled-bg-color);\n",
              "    fill: var(--disabled-fill-color);\n",
              "    box-shadow: none;\n",
              "  }\n",
              "\n",
              "  .colab-df-spinner {\n",
              "    border: 2px solid var(--fill-color);\n",
              "    border-color: transparent;\n",
              "    border-bottom-color: var(--fill-color);\n",
              "    animation:\n",
              "      spin 1s steps(1) infinite;\n",
              "  }\n",
              "\n",
              "  @keyframes spin {\n",
              "    0% {\n",
              "      border-color: transparent;\n",
              "      border-bottom-color: var(--fill-color);\n",
              "      border-left-color: var(--fill-color);\n",
              "    }\n",
              "    20% {\n",
              "      border-color: transparent;\n",
              "      border-left-color: var(--fill-color);\n",
              "      border-top-color: var(--fill-color);\n",
              "    }\n",
              "    30% {\n",
              "      border-color: transparent;\n",
              "      border-left-color: var(--fill-color);\n",
              "      border-top-color: var(--fill-color);\n",
              "      border-right-color: var(--fill-color);\n",
              "    }\n",
              "    40% {\n",
              "      border-color: transparent;\n",
              "      border-right-color: var(--fill-color);\n",
              "      border-top-color: var(--fill-color);\n",
              "    }\n",
              "    60% {\n",
              "      border-color: transparent;\n",
              "      border-right-color: var(--fill-color);\n",
              "    }\n",
              "    80% {\n",
              "      border-color: transparent;\n",
              "      border-right-color: var(--fill-color);\n",
              "      border-bottom-color: var(--fill-color);\n",
              "    }\n",
              "    90% {\n",
              "      border-color: transparent;\n",
              "      border-bottom-color: var(--fill-color);\n",
              "    }\n",
              "  }\n",
              "</style>\n",
              "\n",
              "  <script>\n",
              "    async function quickchart(key) {\n",
              "      const quickchartButtonEl =\n",
              "        document.querySelector('#' + key + ' button');\n",
              "      quickchartButtonEl.disabled = true;  // To prevent multiple clicks.\n",
              "      quickchartButtonEl.classList.add('colab-df-spinner');\n",
              "      try {\n",
              "        const charts = await google.colab.kernel.invokeFunction(\n",
              "            'suggestCharts', [key], {});\n",
              "      } catch (error) {\n",
              "        console.error('Error during call to suggestCharts:', error);\n",
              "      }\n",
              "      quickchartButtonEl.classList.remove('colab-df-spinner');\n",
              "      quickchartButtonEl.classList.add('colab-df-quickchart-complete');\n",
              "    }\n",
              "    (() => {\n",
              "      let quickchartButtonEl =\n",
              "        document.querySelector('#df-b4f704c1-e6f2-41bb-bcbd-acd0aff2e182 button');\n",
              "      quickchartButtonEl.style.display =\n",
              "        google.colab.kernel.accessAllowed ? 'block' : 'none';\n",
              "    })();\n",
              "  </script>\n",
              "</div>\n",
              "    </div>\n",
              "  </div>\n"
            ],
            "text/plain": [
              "         id nforest_type\n",
              "0     13467          DEF\n",
              "1     12719          MDF\n",
              "2      1054          MDF\n",
              "3     13747          DDF\n",
              "4      9453          DDF\n",
              "...     ...          ...\n",
              "3995    115          DEF\n",
              "3996  10654          MDF\n",
              "3997   5718          DEF\n",
              "3998  13054          MDF\n",
              "3999   6539          DEF\n",
              "\n",
              "[4000 rows x 2 columns]"
            ]
          },
          "execution_count": 37,
          "metadata": {},
          "output_type": "execute_result"
        }
      ],
      "source": [
        "sample_sub['nforest_type'] = test_cat\n",
        "sample_sub"
      ]
    },
    {
      "cell_type": "code",
      "execution_count": 38,
      "metadata": {
        "colab": {
          "base_uri": "https://localhost:8080/"
        },
        "id": "v1XL26mZmwNY",
        "outputId": "04598b35-4316-46ad-8f98-bc73165b770b"
      },
      "outputs": [
        {
          "data": {
            "text/plain": [
              "nforest_type\n",
              "MDF    1727\n",
              "DDF    1441\n",
              "DEF     832\n",
              "Name: count, dtype: int64"
            ]
          },
          "execution_count": 38,
          "metadata": {},
          "output_type": "execute_result"
        }
      ],
      "source": [
        "sample_sub['nforest_type'].value_counts()"
      ]
    },
    {
      "cell_type": "code",
      "execution_count": 39,
      "metadata": {
        "colab": {
          "base_uri": "https://localhost:8080/"
        },
        "id": "VuAMNmQbZ-nw",
        "outputId": "e029d1e0-b77a-4a1b-c5be-81997c271176"
      },
      "outputs": [
        {
          "data": {
            "text/plain": [
              "0"
            ]
          },
          "execution_count": 39,
          "metadata": {},
          "output_type": "execute_result"
        }
      ],
      "source": [
        "sample_sub['nforest_type'].isnull().sum()"
      ]
    },
    {
      "cell_type": "code",
      "execution_count": null,
      "metadata": {
        "id": "GbueMK-IUvcm"
      },
      "outputs": [],
      "source": [
        "sample_sub.to_csv('submission_optuna_feature_focus_day4.csv', index=False)"
      ]
    },
    {
      "cell_type": "markdown",
      "metadata": {
        "id": "8kscLjcHtfJD"
      },
      "source": [
        "# Top5 best score to majority vote"
      ]
    },
    {
      "cell_type": "code",
      "execution_count": null,
      "metadata": {
        "id": "Y-orLu1Yte8a"
      },
      "outputs": [],
      "source": [
        "from collections import Counter\n",
        "\n",
        "def majority_vote(lst):\n",
        "    # Count occurrences of each element\n",
        "    counts = Counter(lst)\n",
        "\n",
        "    # Find the element(s) with the maximum count\n",
        "    max_count = max(counts.values())\n",
        "    majority_elements = [key for key, value in counts.items() if value == max_count]\n",
        "\n",
        "    # If there is a single majority element, return it\n",
        "    if len(majority_elements) == 1:\n",
        "        return majority_elements[0]\n",
        "    else:\n",
        "        return None  # Return None in case of a tie\n"
      ]
    },
    {
      "cell_type": "code",
      "execution_count": null,
      "metadata": {
        "id": "NwlhL-POtnbT"
      },
      "outputs": [],
      "source": [
        "df1 = pd.read_csv('/content/submission_onlycat_day3.csv')\n",
        "df2 = pd.read_csv('/content/submission_catboot_optuna_search_day3.csv')\n",
        "df3 = pd.read_csv('/content/submission_catboot_optuna_feature_focus_day3.csv')\n",
        "df4 = pd.read_csv('/content/submission_optuna_feature_focus_day4.csv')\n",
        "df5 = pd.read_csv('/content/submission_optuna_littelfeature_day4.csv')"
      ]
    },
    {
      "cell_type": "code",
      "execution_count": null,
      "metadata": {
        "colab": {
          "base_uri": "https://localhost:8080/"
        },
        "collapsed": true,
        "id": "YtktyJJkt1qt",
        "outputId": "2f0cf6d9-cc0c-4bbb-b3e1-965b3ed1fb25"
      },
      "outputs": [
        {
          "data": {
            "text/plain": [
              "['DEF',\n",
              " 'DDF',\n",
              " 'MDF',\n",
              " 'DDF',\n",
              " 'DDF',\n",
              " 'MDF',\n",
              " 'MDF',\n",
              " 'DDF',\n",
              " 'MDF',\n",
              " 'DDF',\n",
              " 'MDF',\n",
              " 'MDF',\n",
              " 'MDF',\n",
              " 'MDF',\n",
              " 'MDF',\n",
              " 'DDF',\n",
              " 'MDF',\n",
              " 'DDF',\n",
              " 'DDF',\n",
              " 'DEF']"
            ]
          },
          "execution_count": 96,
          "metadata": {},
          "output_type": "execute_result"
        }
      ],
      "source": [
        "df_list1 = df1['nforest_type'].tolist()\n",
        "df_list2 = df2['nforest_type'].tolist()\n",
        "df_list3 = df3['nforest_type'].tolist()\n",
        "df_list4 = df4['nforest_type'].tolist()\n",
        "df_list5 = df5['nforest_type'].tolist()\n",
        "df_list5[:20]"
      ]
    },
    {
      "cell_type": "code",
      "execution_count": null,
      "metadata": {
        "colab": {
          "base_uri": "https://localhost:8080/"
        },
        "id": "RGiTtJoGtj7p",
        "outputId": "142d776d-25a7-4fb9-855a-a9f5cf0ebfe9"
      },
      "outputs": [
        {
          "data": {
            "text/plain": [
              "['DEF', 'MDF', 'MDF', 'DDF', 'DDF', 'MDF', 'MDF', 'DDF', 'MDF', 'DDF']"
            ]
          },
          "execution_count": 97,
          "metadata": {},
          "output_type": "execute_result"
        }
      ],
      "source": [
        "sub = []\n",
        "for i in range(4000):\n",
        "  vote = []\n",
        "  \n",
        "  vote.append(df_list1[i])\n",
        "  vote.append(df_list2[i])\n",
        "  vote.append(df_list3[i])\n",
        "  vote.append(df_list4[i])\n",
        "  vote.append(df_list5[i])\n",
        "\n",
        "  vote_kub = majority_vote(vote)\n",
        "  sub.append(vote_kub)\n",
        "sub[:10]"
      ]
    },
    {
      "cell_type": "code",
      "execution_count": null,
      "metadata": {
        "colab": {
          "base_uri": "https://localhost:8080/",
          "height": 424
        },
        "id": "mogW8ZHEuQRr",
        "outputId": "a899c069-4278-4307-9eae-b37d2d80096f"
      },
      "outputs": [
        {
          "data": {
            "application/vnd.google.colaboratory.intrinsic+json": {
              "summary": "{\n  \"name\": \"sample_sub\",\n  \"rows\": 4000,\n  \"fields\": [\n    {\n      \"column\": \"id\",\n      \"properties\": {\n        \"dtype\": \"number\",\n        \"std\": 4936,\n        \"min\": 1,\n        \"max\": 17052,\n        \"num_unique_values\": 4000,\n        \"samples\": [\n          4371,\n          2112,\n          1925\n        ],\n        \"semantic_type\": \"\",\n        \"description\": \"\"\n      }\n    },\n    {\n      \"column\": \"nforest_type\",\n      \"properties\": {\n        \"dtype\": \"category\",\n        \"num_unique_values\": 3,\n        \"samples\": [\n          \"DEF\",\n          \"DDF\",\n          \"MDF\"\n        ],\n        \"semantic_type\": \"\",\n        \"description\": \"\"\n      }\n    }\n  ]\n}",
              "type": "dataframe",
              "variable_name": "sample_sub"
            },
            "text/html": [
              "\n",
              "  <div id=\"df-5c21d04a-8b41-4667-b961-f85e75ad7364\" class=\"colab-df-container\">\n",
              "    <div>\n",
              "<style scoped>\n",
              "    .dataframe tbody tr th:only-of-type {\n",
              "        vertical-align: middle;\n",
              "    }\n",
              "\n",
              "    .dataframe tbody tr th {\n",
              "        vertical-align: top;\n",
              "    }\n",
              "\n",
              "    .dataframe thead th {\n",
              "        text-align: right;\n",
              "    }\n",
              "</style>\n",
              "<table border=\"1\" class=\"dataframe\">\n",
              "  <thead>\n",
              "    <tr style=\"text-align: right;\">\n",
              "      <th></th>\n",
              "      <th>id</th>\n",
              "      <th>nforest_type</th>\n",
              "    </tr>\n",
              "  </thead>\n",
              "  <tbody>\n",
              "    <tr>\n",
              "      <th>0</th>\n",
              "      <td>13467</td>\n",
              "      <td>DEF</td>\n",
              "    </tr>\n",
              "    <tr>\n",
              "      <th>1</th>\n",
              "      <td>12719</td>\n",
              "      <td>DDF</td>\n",
              "    </tr>\n",
              "    <tr>\n",
              "      <th>2</th>\n",
              "      <td>1054</td>\n",
              "      <td>MDF</td>\n",
              "    </tr>\n",
              "    <tr>\n",
              "      <th>3</th>\n",
              "      <td>13747</td>\n",
              "      <td>NaN</td>\n",
              "    </tr>\n",
              "    <tr>\n",
              "      <th>4</th>\n",
              "      <td>9453</td>\n",
              "      <td>NaN</td>\n",
              "    </tr>\n",
              "    <tr>\n",
              "      <th>...</th>\n",
              "      <td>...</td>\n",
              "      <td>...</td>\n",
              "    </tr>\n",
              "    <tr>\n",
              "      <th>3995</th>\n",
              "      <td>115</td>\n",
              "      <td>NaN</td>\n",
              "    </tr>\n",
              "    <tr>\n",
              "      <th>3996</th>\n",
              "      <td>10654</td>\n",
              "      <td>NaN</td>\n",
              "    </tr>\n",
              "    <tr>\n",
              "      <th>3997</th>\n",
              "      <td>5718</td>\n",
              "      <td>NaN</td>\n",
              "    </tr>\n",
              "    <tr>\n",
              "      <th>3998</th>\n",
              "      <td>13054</td>\n",
              "      <td>NaN</td>\n",
              "    </tr>\n",
              "    <tr>\n",
              "      <th>3999</th>\n",
              "      <td>6539</td>\n",
              "      <td>NaN</td>\n",
              "    </tr>\n",
              "  </tbody>\n",
              "</table>\n",
              "<p>4000 rows × 2 columns</p>\n",
              "</div>\n",
              "    <div class=\"colab-df-buttons\">\n",
              "\n",
              "  <div class=\"colab-df-container\">\n",
              "    <button class=\"colab-df-convert\" onclick=\"convertToInteractive('df-5c21d04a-8b41-4667-b961-f85e75ad7364')\"\n",
              "            title=\"Convert this dataframe to an interactive table.\"\n",
              "            style=\"display:none;\">\n",
              "\n",
              "  <svg xmlns=\"http://www.w3.org/2000/svg\" height=\"24px\" viewBox=\"0 -960 960 960\">\n",
              "    <path d=\"M120-120v-720h720v720H120Zm60-500h600v-160H180v160Zm220 220h160v-160H400v160Zm0 220h160v-160H400v160ZM180-400h160v-160H180v160Zm440 0h160v-160H620v160ZM180-180h160v-160H180v160Zm440 0h160v-160H620v160Z\"/>\n",
              "  </svg>\n",
              "    </button>\n",
              "\n",
              "  <style>\n",
              "    .colab-df-container {\n",
              "      display:flex;\n",
              "      gap: 12px;\n",
              "    }\n",
              "\n",
              "    .colab-df-convert {\n",
              "      background-color: #E8F0FE;\n",
              "      border: none;\n",
              "      border-radius: 50%;\n",
              "      cursor: pointer;\n",
              "      display: none;\n",
              "      fill: #1967D2;\n",
              "      height: 32px;\n",
              "      padding: 0 0 0 0;\n",
              "      width: 32px;\n",
              "    }\n",
              "\n",
              "    .colab-df-convert:hover {\n",
              "      background-color: #E2EBFA;\n",
              "      box-shadow: 0px 1px 2px rgba(60, 64, 67, 0.3), 0px 1px 3px 1px rgba(60, 64, 67, 0.15);\n",
              "      fill: #174EA6;\n",
              "    }\n",
              "\n",
              "    .colab-df-buttons div {\n",
              "      margin-bottom: 4px;\n",
              "    }\n",
              "\n",
              "    [theme=dark] .colab-df-convert {\n",
              "      background-color: #3B4455;\n",
              "      fill: #D2E3FC;\n",
              "    }\n",
              "\n",
              "    [theme=dark] .colab-df-convert:hover {\n",
              "      background-color: #434B5C;\n",
              "      box-shadow: 0px 1px 3px 1px rgba(0, 0, 0, 0.15);\n",
              "      filter: drop-shadow(0px 1px 2px rgba(0, 0, 0, 0.3));\n",
              "      fill: #FFFFFF;\n",
              "    }\n",
              "  </style>\n",
              "\n",
              "    <script>\n",
              "      const buttonEl =\n",
              "        document.querySelector('#df-5c21d04a-8b41-4667-b961-f85e75ad7364 button.colab-df-convert');\n",
              "      buttonEl.style.display =\n",
              "        google.colab.kernel.accessAllowed ? 'block' : 'none';\n",
              "\n",
              "      async function convertToInteractive(key) {\n",
              "        const element = document.querySelector('#df-5c21d04a-8b41-4667-b961-f85e75ad7364');\n",
              "        const dataTable =\n",
              "          await google.colab.kernel.invokeFunction('convertToInteractive',\n",
              "                                                    [key], {});\n",
              "        if (!dataTable) return;\n",
              "\n",
              "        const docLinkHtml = 'Like what you see? Visit the ' +\n",
              "          '<a target=\"_blank\" href=https://colab.research.google.com/notebooks/data_table.ipynb>data table notebook</a>'\n",
              "          + ' to learn more about interactive tables.';\n",
              "        element.innerHTML = '';\n",
              "        dataTable['output_type'] = 'display_data';\n",
              "        await google.colab.output.renderOutput(dataTable, element);\n",
              "        const docLink = document.createElement('div');\n",
              "        docLink.innerHTML = docLinkHtml;\n",
              "        element.appendChild(docLink);\n",
              "      }\n",
              "    </script>\n",
              "  </div>\n",
              "\n",
              "\n",
              "<div id=\"df-461b49a4-b2cf-4c39-ac9e-d7acdd1c175e\">\n",
              "  <button class=\"colab-df-quickchart\" onclick=\"quickchart('df-461b49a4-b2cf-4c39-ac9e-d7acdd1c175e')\"\n",
              "            title=\"Suggest charts\"\n",
              "            style=\"display:none;\">\n",
              "\n",
              "<svg xmlns=\"http://www.w3.org/2000/svg\" height=\"24px\"viewBox=\"0 0 24 24\"\n",
              "     width=\"24px\">\n",
              "    <g>\n",
              "        <path d=\"M19 3H5c-1.1 0-2 .9-2 2v14c0 1.1.9 2 2 2h14c1.1 0 2-.9 2-2V5c0-1.1-.9-2-2-2zM9 17H7v-7h2v7zm4 0h-2V7h2v10zm4 0h-2v-4h2v4z\"/>\n",
              "    </g>\n",
              "</svg>\n",
              "  </button>\n",
              "\n",
              "<style>\n",
              "  .colab-df-quickchart {\n",
              "      --bg-color: #E8F0FE;\n",
              "      --fill-color: #1967D2;\n",
              "      --hover-bg-color: #E2EBFA;\n",
              "      --hover-fill-color: #174EA6;\n",
              "      --disabled-fill-color: #AAA;\n",
              "      --disabled-bg-color: #DDD;\n",
              "  }\n",
              "\n",
              "  [theme=dark] .colab-df-quickchart {\n",
              "      --bg-color: #3B4455;\n",
              "      --fill-color: #D2E3FC;\n",
              "      --hover-bg-color: #434B5C;\n",
              "      --hover-fill-color: #FFFFFF;\n",
              "      --disabled-bg-color: #3B4455;\n",
              "      --disabled-fill-color: #666;\n",
              "  }\n",
              "\n",
              "  .colab-df-quickchart {\n",
              "    background-color: var(--bg-color);\n",
              "    border: none;\n",
              "    border-radius: 50%;\n",
              "    cursor: pointer;\n",
              "    display: none;\n",
              "    fill: var(--fill-color);\n",
              "    height: 32px;\n",
              "    padding: 0;\n",
              "    width: 32px;\n",
              "  }\n",
              "\n",
              "  .colab-df-quickchart:hover {\n",
              "    background-color: var(--hover-bg-color);\n",
              "    box-shadow: 0 1px 2px rgba(60, 64, 67, 0.3), 0 1px 3px 1px rgba(60, 64, 67, 0.15);\n",
              "    fill: var(--button-hover-fill-color);\n",
              "  }\n",
              "\n",
              "  .colab-df-quickchart-complete:disabled,\n",
              "  .colab-df-quickchart-complete:disabled:hover {\n",
              "    background-color: var(--disabled-bg-color);\n",
              "    fill: var(--disabled-fill-color);\n",
              "    box-shadow: none;\n",
              "  }\n",
              "\n",
              "  .colab-df-spinner {\n",
              "    border: 2px solid var(--fill-color);\n",
              "    border-color: transparent;\n",
              "    border-bottom-color: var(--fill-color);\n",
              "    animation:\n",
              "      spin 1s steps(1) infinite;\n",
              "  }\n",
              "\n",
              "  @keyframes spin {\n",
              "    0% {\n",
              "      border-color: transparent;\n",
              "      border-bottom-color: var(--fill-color);\n",
              "      border-left-color: var(--fill-color);\n",
              "    }\n",
              "    20% {\n",
              "      border-color: transparent;\n",
              "      border-left-color: var(--fill-color);\n",
              "      border-top-color: var(--fill-color);\n",
              "    }\n",
              "    30% {\n",
              "      border-color: transparent;\n",
              "      border-left-color: var(--fill-color);\n",
              "      border-top-color: var(--fill-color);\n",
              "      border-right-color: var(--fill-color);\n",
              "    }\n",
              "    40% {\n",
              "      border-color: transparent;\n",
              "      border-right-color: var(--fill-color);\n",
              "      border-top-color: var(--fill-color);\n",
              "    }\n",
              "    60% {\n",
              "      border-color: transparent;\n",
              "      border-right-color: var(--fill-color);\n",
              "    }\n",
              "    80% {\n",
              "      border-color: transparent;\n",
              "      border-right-color: var(--fill-color);\n",
              "      border-bottom-color: var(--fill-color);\n",
              "    }\n",
              "    90% {\n",
              "      border-color: transparent;\n",
              "      border-bottom-color: var(--fill-color);\n",
              "    }\n",
              "  }\n",
              "</style>\n",
              "\n",
              "  <script>\n",
              "    async function quickchart(key) {\n",
              "      const quickchartButtonEl =\n",
              "        document.querySelector('#' + key + ' button');\n",
              "      quickchartButtonEl.disabled = true;  // To prevent multiple clicks.\n",
              "      quickchartButtonEl.classList.add('colab-df-spinner');\n",
              "      try {\n",
              "        const charts = await google.colab.kernel.invokeFunction(\n",
              "            'suggestCharts', [key], {});\n",
              "      } catch (error) {\n",
              "        console.error('Error during call to suggestCharts:', error);\n",
              "      }\n",
              "      quickchartButtonEl.classList.remove('colab-df-spinner');\n",
              "      quickchartButtonEl.classList.add('colab-df-quickchart-complete');\n",
              "    }\n",
              "    (() => {\n",
              "      let quickchartButtonEl =\n",
              "        document.querySelector('#df-461b49a4-b2cf-4c39-ac9e-d7acdd1c175e button');\n",
              "      quickchartButtonEl.style.display =\n",
              "        google.colab.kernel.accessAllowed ? 'block' : 'none';\n",
              "    })();\n",
              "  </script>\n",
              "</div>\n",
              "    </div>\n",
              "  </div>\n"
            ],
            "text/plain": [
              "         id nforest_type\n",
              "0     13467          DEF\n",
              "1     12719          DDF\n",
              "2      1054          MDF\n",
              "3     13747          NaN\n",
              "4      9453          NaN\n",
              "...     ...          ...\n",
              "3995    115          NaN\n",
              "3996  10654          NaN\n",
              "3997   5718          NaN\n",
              "3998  13054          NaN\n",
              "3999   6539          NaN\n",
              "\n",
              "[4000 rows x 2 columns]"
            ]
          },
          "execution_count": 98,
          "metadata": {},
          "output_type": "execute_result"
        }
      ],
      "source": [
        "sample_sub = pd.read_csv('/content/sample_submission.csv')\n",
        "sample_sub"
      ]
    },
    {
      "cell_type": "code",
      "execution_count": null,
      "metadata": {
        "colab": {
          "base_uri": "https://localhost:8080/",
          "height": 424
        },
        "id": "RfwH5plJuN4E",
        "outputId": "8b1aa8b4-349e-4d98-8a5f-1f914ad79404"
      },
      "outputs": [
        {
          "data": {
            "application/vnd.google.colaboratory.intrinsic+json": {
              "summary": "{\n  \"name\": \"sample_sub\",\n  \"rows\": 4000,\n  \"fields\": [\n    {\n      \"column\": \"id\",\n      \"properties\": {\n        \"dtype\": \"number\",\n        \"std\": 4936,\n        \"min\": 1,\n        \"max\": 17052,\n        \"num_unique_values\": 4000,\n        \"samples\": [\n          4371,\n          2112,\n          1925\n        ],\n        \"semantic_type\": \"\",\n        \"description\": \"\"\n      }\n    },\n    {\n      \"column\": \"nforest_type\",\n      \"properties\": {\n        \"dtype\": \"category\",\n        \"num_unique_values\": 3,\n        \"samples\": [\n          \"DEF\",\n          \"MDF\",\n          \"DDF\"\n        ],\n        \"semantic_type\": \"\",\n        \"description\": \"\"\n      }\n    }\n  ]\n}",
              "type": "dataframe",
              "variable_name": "sample_sub"
            },
            "text/html": [
              "\n",
              "  <div id=\"df-9260d982-c688-4847-9176-4fb4420880e8\" class=\"colab-df-container\">\n",
              "    <div>\n",
              "<style scoped>\n",
              "    .dataframe tbody tr th:only-of-type {\n",
              "        vertical-align: middle;\n",
              "    }\n",
              "\n",
              "    .dataframe tbody tr th {\n",
              "        vertical-align: top;\n",
              "    }\n",
              "\n",
              "    .dataframe thead th {\n",
              "        text-align: right;\n",
              "    }\n",
              "</style>\n",
              "<table border=\"1\" class=\"dataframe\">\n",
              "  <thead>\n",
              "    <tr style=\"text-align: right;\">\n",
              "      <th></th>\n",
              "      <th>id</th>\n",
              "      <th>nforest_type</th>\n",
              "    </tr>\n",
              "  </thead>\n",
              "  <tbody>\n",
              "    <tr>\n",
              "      <th>0</th>\n",
              "      <td>13467</td>\n",
              "      <td>DEF</td>\n",
              "    </tr>\n",
              "    <tr>\n",
              "      <th>1</th>\n",
              "      <td>12719</td>\n",
              "      <td>MDF</td>\n",
              "    </tr>\n",
              "    <tr>\n",
              "      <th>2</th>\n",
              "      <td>1054</td>\n",
              "      <td>MDF</td>\n",
              "    </tr>\n",
              "    <tr>\n",
              "      <th>3</th>\n",
              "      <td>13747</td>\n",
              "      <td>DDF</td>\n",
              "    </tr>\n",
              "    <tr>\n",
              "      <th>4</th>\n",
              "      <td>9453</td>\n",
              "      <td>DDF</td>\n",
              "    </tr>\n",
              "    <tr>\n",
              "      <th>...</th>\n",
              "      <td>...</td>\n",
              "      <td>...</td>\n",
              "    </tr>\n",
              "    <tr>\n",
              "      <th>3995</th>\n",
              "      <td>115</td>\n",
              "      <td>DEF</td>\n",
              "    </tr>\n",
              "    <tr>\n",
              "      <th>3996</th>\n",
              "      <td>10654</td>\n",
              "      <td>MDF</td>\n",
              "    </tr>\n",
              "    <tr>\n",
              "      <th>3997</th>\n",
              "      <td>5718</td>\n",
              "      <td>DEF</td>\n",
              "    </tr>\n",
              "    <tr>\n",
              "      <th>3998</th>\n",
              "      <td>13054</td>\n",
              "      <td>MDF</td>\n",
              "    </tr>\n",
              "    <tr>\n",
              "      <th>3999</th>\n",
              "      <td>6539</td>\n",
              "      <td>DEF</td>\n",
              "    </tr>\n",
              "  </tbody>\n",
              "</table>\n",
              "<p>4000 rows × 2 columns</p>\n",
              "</div>\n",
              "    <div class=\"colab-df-buttons\">\n",
              "\n",
              "  <div class=\"colab-df-container\">\n",
              "    <button class=\"colab-df-convert\" onclick=\"convertToInteractive('df-9260d982-c688-4847-9176-4fb4420880e8')\"\n",
              "            title=\"Convert this dataframe to an interactive table.\"\n",
              "            style=\"display:none;\">\n",
              "\n",
              "  <svg xmlns=\"http://www.w3.org/2000/svg\" height=\"24px\" viewBox=\"0 -960 960 960\">\n",
              "    <path d=\"M120-120v-720h720v720H120Zm60-500h600v-160H180v160Zm220 220h160v-160H400v160Zm0 220h160v-160H400v160ZM180-400h160v-160H180v160Zm440 0h160v-160H620v160ZM180-180h160v-160H180v160Zm440 0h160v-160H620v160Z\"/>\n",
              "  </svg>\n",
              "    </button>\n",
              "\n",
              "  <style>\n",
              "    .colab-df-container {\n",
              "      display:flex;\n",
              "      gap: 12px;\n",
              "    }\n",
              "\n",
              "    .colab-df-convert {\n",
              "      background-color: #E8F0FE;\n",
              "      border: none;\n",
              "      border-radius: 50%;\n",
              "      cursor: pointer;\n",
              "      display: none;\n",
              "      fill: #1967D2;\n",
              "      height: 32px;\n",
              "      padding: 0 0 0 0;\n",
              "      width: 32px;\n",
              "    }\n",
              "\n",
              "    .colab-df-convert:hover {\n",
              "      background-color: #E2EBFA;\n",
              "      box-shadow: 0px 1px 2px rgba(60, 64, 67, 0.3), 0px 1px 3px 1px rgba(60, 64, 67, 0.15);\n",
              "      fill: #174EA6;\n",
              "    }\n",
              "\n",
              "    .colab-df-buttons div {\n",
              "      margin-bottom: 4px;\n",
              "    }\n",
              "\n",
              "    [theme=dark] .colab-df-convert {\n",
              "      background-color: #3B4455;\n",
              "      fill: #D2E3FC;\n",
              "    }\n",
              "\n",
              "    [theme=dark] .colab-df-convert:hover {\n",
              "      background-color: #434B5C;\n",
              "      box-shadow: 0px 1px 3px 1px rgba(0, 0, 0, 0.15);\n",
              "      filter: drop-shadow(0px 1px 2px rgba(0, 0, 0, 0.3));\n",
              "      fill: #FFFFFF;\n",
              "    }\n",
              "  </style>\n",
              "\n",
              "    <script>\n",
              "      const buttonEl =\n",
              "        document.querySelector('#df-9260d982-c688-4847-9176-4fb4420880e8 button.colab-df-convert');\n",
              "      buttonEl.style.display =\n",
              "        google.colab.kernel.accessAllowed ? 'block' : 'none';\n",
              "\n",
              "      async function convertToInteractive(key) {\n",
              "        const element = document.querySelector('#df-9260d982-c688-4847-9176-4fb4420880e8');\n",
              "        const dataTable =\n",
              "          await google.colab.kernel.invokeFunction('convertToInteractive',\n",
              "                                                    [key], {});\n",
              "        if (!dataTable) return;\n",
              "\n",
              "        const docLinkHtml = 'Like what you see? Visit the ' +\n",
              "          '<a target=\"_blank\" href=https://colab.research.google.com/notebooks/data_table.ipynb>data table notebook</a>'\n",
              "          + ' to learn more about interactive tables.';\n",
              "        element.innerHTML = '';\n",
              "        dataTable['output_type'] = 'display_data';\n",
              "        await google.colab.output.renderOutput(dataTable, element);\n",
              "        const docLink = document.createElement('div');\n",
              "        docLink.innerHTML = docLinkHtml;\n",
              "        element.appendChild(docLink);\n",
              "      }\n",
              "    </script>\n",
              "  </div>\n",
              "\n",
              "\n",
              "<div id=\"df-6e09d099-f5e0-4e44-9420-22cd6d32346d\">\n",
              "  <button class=\"colab-df-quickchart\" onclick=\"quickchart('df-6e09d099-f5e0-4e44-9420-22cd6d32346d')\"\n",
              "            title=\"Suggest charts\"\n",
              "            style=\"display:none;\">\n",
              "\n",
              "<svg xmlns=\"http://www.w3.org/2000/svg\" height=\"24px\"viewBox=\"0 0 24 24\"\n",
              "     width=\"24px\">\n",
              "    <g>\n",
              "        <path d=\"M19 3H5c-1.1 0-2 .9-2 2v14c0 1.1.9 2 2 2h14c1.1 0 2-.9 2-2V5c0-1.1-.9-2-2-2zM9 17H7v-7h2v7zm4 0h-2V7h2v10zm4 0h-2v-4h2v4z\"/>\n",
              "    </g>\n",
              "</svg>\n",
              "  </button>\n",
              "\n",
              "<style>\n",
              "  .colab-df-quickchart {\n",
              "      --bg-color: #E8F0FE;\n",
              "      --fill-color: #1967D2;\n",
              "      --hover-bg-color: #E2EBFA;\n",
              "      --hover-fill-color: #174EA6;\n",
              "      --disabled-fill-color: #AAA;\n",
              "      --disabled-bg-color: #DDD;\n",
              "  }\n",
              "\n",
              "  [theme=dark] .colab-df-quickchart {\n",
              "      --bg-color: #3B4455;\n",
              "      --fill-color: #D2E3FC;\n",
              "      --hover-bg-color: #434B5C;\n",
              "      --hover-fill-color: #FFFFFF;\n",
              "      --disabled-bg-color: #3B4455;\n",
              "      --disabled-fill-color: #666;\n",
              "  }\n",
              "\n",
              "  .colab-df-quickchart {\n",
              "    background-color: var(--bg-color);\n",
              "    border: none;\n",
              "    border-radius: 50%;\n",
              "    cursor: pointer;\n",
              "    display: none;\n",
              "    fill: var(--fill-color);\n",
              "    height: 32px;\n",
              "    padding: 0;\n",
              "    width: 32px;\n",
              "  }\n",
              "\n",
              "  .colab-df-quickchart:hover {\n",
              "    background-color: var(--hover-bg-color);\n",
              "    box-shadow: 0 1px 2px rgba(60, 64, 67, 0.3), 0 1px 3px 1px rgba(60, 64, 67, 0.15);\n",
              "    fill: var(--button-hover-fill-color);\n",
              "  }\n",
              "\n",
              "  .colab-df-quickchart-complete:disabled,\n",
              "  .colab-df-quickchart-complete:disabled:hover {\n",
              "    background-color: var(--disabled-bg-color);\n",
              "    fill: var(--disabled-fill-color);\n",
              "    box-shadow: none;\n",
              "  }\n",
              "\n",
              "  .colab-df-spinner {\n",
              "    border: 2px solid var(--fill-color);\n",
              "    border-color: transparent;\n",
              "    border-bottom-color: var(--fill-color);\n",
              "    animation:\n",
              "      spin 1s steps(1) infinite;\n",
              "  }\n",
              "\n",
              "  @keyframes spin {\n",
              "    0% {\n",
              "      border-color: transparent;\n",
              "      border-bottom-color: var(--fill-color);\n",
              "      border-left-color: var(--fill-color);\n",
              "    }\n",
              "    20% {\n",
              "      border-color: transparent;\n",
              "      border-left-color: var(--fill-color);\n",
              "      border-top-color: var(--fill-color);\n",
              "    }\n",
              "    30% {\n",
              "      border-color: transparent;\n",
              "      border-left-color: var(--fill-color);\n",
              "      border-top-color: var(--fill-color);\n",
              "      border-right-color: var(--fill-color);\n",
              "    }\n",
              "    40% {\n",
              "      border-color: transparent;\n",
              "      border-right-color: var(--fill-color);\n",
              "      border-top-color: var(--fill-color);\n",
              "    }\n",
              "    60% {\n",
              "      border-color: transparent;\n",
              "      border-right-color: var(--fill-color);\n",
              "    }\n",
              "    80% {\n",
              "      border-color: transparent;\n",
              "      border-right-color: var(--fill-color);\n",
              "      border-bottom-color: var(--fill-color);\n",
              "    }\n",
              "    90% {\n",
              "      border-color: transparent;\n",
              "      border-bottom-color: var(--fill-color);\n",
              "    }\n",
              "  }\n",
              "</style>\n",
              "\n",
              "  <script>\n",
              "    async function quickchart(key) {\n",
              "      const quickchartButtonEl =\n",
              "        document.querySelector('#' + key + ' button');\n",
              "      quickchartButtonEl.disabled = true;  // To prevent multiple clicks.\n",
              "      quickchartButtonEl.classList.add('colab-df-spinner');\n",
              "      try {\n",
              "        const charts = await google.colab.kernel.invokeFunction(\n",
              "            'suggestCharts', [key], {});\n",
              "      } catch (error) {\n",
              "        console.error('Error during call to suggestCharts:', error);\n",
              "      }\n",
              "      quickchartButtonEl.classList.remove('colab-df-spinner');\n",
              "      quickchartButtonEl.classList.add('colab-df-quickchart-complete');\n",
              "    }\n",
              "    (() => {\n",
              "      let quickchartButtonEl =\n",
              "        document.querySelector('#df-6e09d099-f5e0-4e44-9420-22cd6d32346d button');\n",
              "      quickchartButtonEl.style.display =\n",
              "        google.colab.kernel.accessAllowed ? 'block' : 'none';\n",
              "    })();\n",
              "  </script>\n",
              "</div>\n",
              "    </div>\n",
              "  </div>\n"
            ],
            "text/plain": [
              "         id nforest_type\n",
              "0     13467          DEF\n",
              "1     12719          MDF\n",
              "2      1054          MDF\n",
              "3     13747          DDF\n",
              "4      9453          DDF\n",
              "...     ...          ...\n",
              "3995    115          DEF\n",
              "3996  10654          MDF\n",
              "3997   5718          DEF\n",
              "3998  13054          MDF\n",
              "3999   6539          DEF\n",
              "\n",
              "[4000 rows x 2 columns]"
            ]
          },
          "execution_count": 99,
          "metadata": {},
          "output_type": "execute_result"
        }
      ],
      "source": [
        "sample_sub['nforest_type'] = sub\n",
        "sample_sub"
      ]
    },
    {
      "cell_type": "code",
      "execution_count": null,
      "metadata": {
        "colab": {
          "base_uri": "https://localhost:8080/"
        },
        "id": "E_xhQI8_uUnq",
        "outputId": "705b4579-e5c8-4509-c3e6-2fa2dc57527a"
      },
      "outputs": [
        {
          "data": {
            "text/plain": [
              "nforest_type\n",
              "MDF    1753\n",
              "DDF    1423\n",
              "DEF     811\n",
              "Name: count, dtype: int64"
            ]
          },
          "execution_count": 100,
          "metadata": {},
          "output_type": "execute_result"
        }
      ],
      "source": [
        "sample_sub['nforest_type'].value_counts()"
      ]
    },
    {
      "cell_type": "code",
      "execution_count": null,
      "metadata": {
        "colab": {
          "base_uri": "https://localhost:8080/"
        },
        "id": "tTkybmYBuYKH",
        "outputId": "47b012ca-8b7e-47ff-d10b-07327a4c1f8a"
      },
      "outputs": [
        {
          "data": {
            "text/plain": [
              "13"
            ]
          },
          "execution_count": 101,
          "metadata": {},
          "output_type": "execute_result"
        }
      ],
      "source": [
        "sample_sub['nforest_type'].isnull().sum()"
      ]
    },
    {
      "cell_type": "code",
      "execution_count": null,
      "metadata": {
        "colab": {
          "base_uri": "https://localhost:8080/"
        },
        "id": "qDaeaBLMubja",
        "outputId": "eafe18c4-0f15-4422-d690-dd8e8f40ffa2"
      },
      "outputs": [
        {
          "data": {
            "text/plain": [
              "0"
            ]
          },
          "execution_count": 103,
          "metadata": {},
          "output_type": "execute_result"
        }
      ],
      "source": [
        "sample_sub['nforest_type'].fillna(\"MDF\",inplace=True)\n",
        "sample_sub['nforest_type'].isnull().sum()"
      ]
    },
    {
      "cell_type": "code",
      "execution_count": null,
      "metadata": {
        "id": "OyzOy0AHu0NG"
      },
      "outputs": [],
      "source": [
        "sample_sub.to_csv('submission_optuna_final_vote_day4.csv', index=False)"
      ]
    }
  ],
  "metadata": {
    "colab": {
      "machine_shape": "hm",
      "provenance": []
    },
    "kernelspec": {
      "display_name": "Python 3",
      "name": "python3"
    },
    "language_info": {
      "name": "python"
    }
  },
  "nbformat": 4,
  "nbformat_minor": 0
}
